{
 "cells": [
  {
   "cell_type": "code",
   "execution_count": 133,
   "id": "aef785b7",
   "metadata": {},
   "outputs": [],
   "source": [
    "#importing all required libraries\n",
    "import pandas as pd\n",
    "import numpy as np\n",
    "import matplotlib.pyplot as plt\n",
    "%matplotlib inline\n",
    "import seaborn as sns"
   ]
  },
  {
   "cell_type": "markdown",
   "id": "b3ad17fc",
   "metadata": {},
   "source": [
    "# Importing the Dataset"
   ]
  },
  {
   "cell_type": "code",
   "execution_count": 134,
   "id": "a07f33c4",
   "metadata": {},
   "outputs": [],
   "source": [
    "df = pd.read_csv(\"E:\\\\Zep\\\\heart.csv\")"
   ]
  },
  {
   "cell_type": "code",
   "execution_count": 135,
   "id": "e66f5569",
   "metadata": {},
   "outputs": [
    {
     "data": {
      "text/html": [
       "<div>\n",
       "<style scoped>\n",
       "    .dataframe tbody tr th:only-of-type {\n",
       "        vertical-align: middle;\n",
       "    }\n",
       "\n",
       "    .dataframe tbody tr th {\n",
       "        vertical-align: top;\n",
       "    }\n",
       "\n",
       "    .dataframe thead th {\n",
       "        text-align: right;\n",
       "    }\n",
       "</style>\n",
       "<table border=\"1\" class=\"dataframe\">\n",
       "  <thead>\n",
       "    <tr style=\"text-align: right;\">\n",
       "      <th></th>\n",
       "      <th>Age</th>\n",
       "      <th>Sex</th>\n",
       "      <th>ChestPainType</th>\n",
       "      <th>RestingBP</th>\n",
       "      <th>Cholesterol</th>\n",
       "      <th>FastingBS</th>\n",
       "      <th>RestingECG</th>\n",
       "      <th>MaxHR</th>\n",
       "      <th>ExerciseAngina</th>\n",
       "      <th>Oldpeak</th>\n",
       "      <th>ST_Slope</th>\n",
       "      <th>HeartDisease</th>\n",
       "    </tr>\n",
       "  </thead>\n",
       "  <tbody>\n",
       "    <tr>\n",
       "      <th>0</th>\n",
       "      <td>40</td>\n",
       "      <td>M</td>\n",
       "      <td>ATA</td>\n",
       "      <td>140</td>\n",
       "      <td>289</td>\n",
       "      <td>0</td>\n",
       "      <td>Normal</td>\n",
       "      <td>172</td>\n",
       "      <td>N</td>\n",
       "      <td>0.0</td>\n",
       "      <td>Up</td>\n",
       "      <td>0</td>\n",
       "    </tr>\n",
       "    <tr>\n",
       "      <th>1</th>\n",
       "      <td>49</td>\n",
       "      <td>F</td>\n",
       "      <td>NAP</td>\n",
       "      <td>160</td>\n",
       "      <td>180</td>\n",
       "      <td>0</td>\n",
       "      <td>Normal</td>\n",
       "      <td>156</td>\n",
       "      <td>N</td>\n",
       "      <td>1.0</td>\n",
       "      <td>Flat</td>\n",
       "      <td>1</td>\n",
       "    </tr>\n",
       "    <tr>\n",
       "      <th>2</th>\n",
       "      <td>37</td>\n",
       "      <td>M</td>\n",
       "      <td>ATA</td>\n",
       "      <td>130</td>\n",
       "      <td>283</td>\n",
       "      <td>0</td>\n",
       "      <td>ST</td>\n",
       "      <td>98</td>\n",
       "      <td>N</td>\n",
       "      <td>0.0</td>\n",
       "      <td>Up</td>\n",
       "      <td>0</td>\n",
       "    </tr>\n",
       "    <tr>\n",
       "      <th>3</th>\n",
       "      <td>48</td>\n",
       "      <td>F</td>\n",
       "      <td>ASY</td>\n",
       "      <td>138</td>\n",
       "      <td>214</td>\n",
       "      <td>0</td>\n",
       "      <td>Normal</td>\n",
       "      <td>108</td>\n",
       "      <td>Y</td>\n",
       "      <td>1.5</td>\n",
       "      <td>Flat</td>\n",
       "      <td>1</td>\n",
       "    </tr>\n",
       "    <tr>\n",
       "      <th>4</th>\n",
       "      <td>54</td>\n",
       "      <td>M</td>\n",
       "      <td>NAP</td>\n",
       "      <td>150</td>\n",
       "      <td>195</td>\n",
       "      <td>0</td>\n",
       "      <td>Normal</td>\n",
       "      <td>122</td>\n",
       "      <td>N</td>\n",
       "      <td>0.0</td>\n",
       "      <td>Up</td>\n",
       "      <td>0</td>\n",
       "    </tr>\n",
       "  </tbody>\n",
       "</table>\n",
       "</div>"
      ],
      "text/plain": [
       "   Age Sex ChestPainType  RestingBP  Cholesterol  FastingBS RestingECG  MaxHR  \\\n",
       "0   40   M           ATA        140          289          0     Normal    172   \n",
       "1   49   F           NAP        160          180          0     Normal    156   \n",
       "2   37   M           ATA        130          283          0         ST     98   \n",
       "3   48   F           ASY        138          214          0     Normal    108   \n",
       "4   54   M           NAP        150          195          0     Normal    122   \n",
       "\n",
       "  ExerciseAngina  Oldpeak ST_Slope  HeartDisease  \n",
       "0              N      0.0       Up             0  \n",
       "1              N      1.0     Flat             1  \n",
       "2              N      0.0       Up             0  \n",
       "3              Y      1.5     Flat             1  \n",
       "4              N      0.0       Up             0  "
      ]
     },
     "execution_count": 135,
     "metadata": {},
     "output_type": "execute_result"
    }
   ],
   "source": [
    "#reading first five rows from dataset\n",
    "df.head()"
   ]
  },
  {
   "cell_type": "markdown",
   "id": "f685f454",
   "metadata": {},
   "source": [
    "# Exploratory Data Analysis (EDA)"
   ]
  },
  {
   "cell_type": "code",
   "execution_count": 136,
   "id": "1c041efa",
   "metadata": {},
   "outputs": [
    {
     "data": {
      "text/plain": [
       "(918, 12)"
      ]
     },
     "execution_count": 136,
     "metadata": {},
     "output_type": "execute_result"
    }
   ],
   "source": [
    "df.shape"
   ]
  },
  {
   "cell_type": "markdown",
   "id": "12d114c1",
   "metadata": {},
   "source": [
    "There have 918 rows & 12 columns in our dataset"
   ]
  },
  {
   "cell_type": "code",
   "execution_count": 137,
   "id": "5c436baf",
   "metadata": {},
   "outputs": [
    {
     "data": {
      "text/plain": [
       "Age               0\n",
       "Sex               0\n",
       "ChestPainType     0\n",
       "RestingBP         0\n",
       "Cholesterol       0\n",
       "FastingBS         0\n",
       "RestingECG        0\n",
       "MaxHR             0\n",
       "ExerciseAngina    0\n",
       "Oldpeak           0\n",
       "ST_Slope          0\n",
       "HeartDisease      0\n",
       "dtype: int64"
      ]
     },
     "execution_count": 137,
     "metadata": {},
     "output_type": "execute_result"
    }
   ],
   "source": [
    "df.isnull().sum()"
   ]
  },
  {
   "cell_type": "markdown",
   "id": "279c0daf",
   "metadata": {},
   "source": [
    "There have not any null or missing values in any columns"
   ]
  },
  {
   "cell_type": "code",
   "execution_count": 138,
   "id": "1a7bdb8f",
   "metadata": {},
   "outputs": [
    {
     "name": "stdout",
     "output_type": "stream",
     "text": [
      "<class 'pandas.core.frame.DataFrame'>\n",
      "RangeIndex: 918 entries, 0 to 917\n",
      "Data columns (total 12 columns):\n",
      " #   Column          Non-Null Count  Dtype  \n",
      "---  ------          --------------  -----  \n",
      " 0   Age             918 non-null    int64  \n",
      " 1   Sex             918 non-null    object \n",
      " 2   ChestPainType   918 non-null    object \n",
      " 3   RestingBP       918 non-null    int64  \n",
      " 4   Cholesterol     918 non-null    int64  \n",
      " 5   FastingBS       918 non-null    int64  \n",
      " 6   RestingECG      918 non-null    object \n",
      " 7   MaxHR           918 non-null    int64  \n",
      " 8   ExerciseAngina  918 non-null    object \n",
      " 9   Oldpeak         918 non-null    float64\n",
      " 10  ST_Slope        918 non-null    object \n",
      " 11  HeartDisease    918 non-null    int64  \n",
      "dtypes: float64(1), int64(6), object(5)\n",
      "memory usage: 86.2+ KB\n"
     ]
    }
   ],
   "source": [
    "df.info()"
   ]
  },
  {
   "cell_type": "code",
   "execution_count": 139,
   "id": "d47ba79f",
   "metadata": {},
   "outputs": [
    {
     "data": {
      "text/html": [
       "<div>\n",
       "<style scoped>\n",
       "    .dataframe tbody tr th:only-of-type {\n",
       "        vertical-align: middle;\n",
       "    }\n",
       "\n",
       "    .dataframe tbody tr th {\n",
       "        vertical-align: top;\n",
       "    }\n",
       "\n",
       "    .dataframe thead th {\n",
       "        text-align: right;\n",
       "    }\n",
       "</style>\n",
       "<table border=\"1\" class=\"dataframe\">\n",
       "  <thead>\n",
       "    <tr style=\"text-align: right;\">\n",
       "      <th></th>\n",
       "      <th>Age</th>\n",
       "      <th>RestingBP</th>\n",
       "      <th>Cholesterol</th>\n",
       "      <th>FastingBS</th>\n",
       "      <th>MaxHR</th>\n",
       "      <th>Oldpeak</th>\n",
       "      <th>HeartDisease</th>\n",
       "    </tr>\n",
       "  </thead>\n",
       "  <tbody>\n",
       "    <tr>\n",
       "      <th>count</th>\n",
       "      <td>918.000000</td>\n",
       "      <td>918.000000</td>\n",
       "      <td>918.000000</td>\n",
       "      <td>918.000000</td>\n",
       "      <td>918.000000</td>\n",
       "      <td>918.000000</td>\n",
       "      <td>918.000000</td>\n",
       "    </tr>\n",
       "    <tr>\n",
       "      <th>mean</th>\n",
       "      <td>53.510893</td>\n",
       "      <td>132.396514</td>\n",
       "      <td>198.799564</td>\n",
       "      <td>0.233115</td>\n",
       "      <td>136.809368</td>\n",
       "      <td>0.887364</td>\n",
       "      <td>0.553377</td>\n",
       "    </tr>\n",
       "    <tr>\n",
       "      <th>std</th>\n",
       "      <td>9.432617</td>\n",
       "      <td>18.514154</td>\n",
       "      <td>109.384145</td>\n",
       "      <td>0.423046</td>\n",
       "      <td>25.460334</td>\n",
       "      <td>1.066570</td>\n",
       "      <td>0.497414</td>\n",
       "    </tr>\n",
       "    <tr>\n",
       "      <th>min</th>\n",
       "      <td>28.000000</td>\n",
       "      <td>0.000000</td>\n",
       "      <td>0.000000</td>\n",
       "      <td>0.000000</td>\n",
       "      <td>60.000000</td>\n",
       "      <td>-2.600000</td>\n",
       "      <td>0.000000</td>\n",
       "    </tr>\n",
       "    <tr>\n",
       "      <th>25%</th>\n",
       "      <td>47.000000</td>\n",
       "      <td>120.000000</td>\n",
       "      <td>173.250000</td>\n",
       "      <td>0.000000</td>\n",
       "      <td>120.000000</td>\n",
       "      <td>0.000000</td>\n",
       "      <td>0.000000</td>\n",
       "    </tr>\n",
       "    <tr>\n",
       "      <th>50%</th>\n",
       "      <td>54.000000</td>\n",
       "      <td>130.000000</td>\n",
       "      <td>223.000000</td>\n",
       "      <td>0.000000</td>\n",
       "      <td>138.000000</td>\n",
       "      <td>0.600000</td>\n",
       "      <td>1.000000</td>\n",
       "    </tr>\n",
       "    <tr>\n",
       "      <th>75%</th>\n",
       "      <td>60.000000</td>\n",
       "      <td>140.000000</td>\n",
       "      <td>267.000000</td>\n",
       "      <td>0.000000</td>\n",
       "      <td>156.000000</td>\n",
       "      <td>1.500000</td>\n",
       "      <td>1.000000</td>\n",
       "    </tr>\n",
       "    <tr>\n",
       "      <th>max</th>\n",
       "      <td>77.000000</td>\n",
       "      <td>200.000000</td>\n",
       "      <td>603.000000</td>\n",
       "      <td>1.000000</td>\n",
       "      <td>202.000000</td>\n",
       "      <td>6.200000</td>\n",
       "      <td>1.000000</td>\n",
       "    </tr>\n",
       "  </tbody>\n",
       "</table>\n",
       "</div>"
      ],
      "text/plain": [
       "              Age   RestingBP  Cholesterol   FastingBS       MaxHR  \\\n",
       "count  918.000000  918.000000   918.000000  918.000000  918.000000   \n",
       "mean    53.510893  132.396514   198.799564    0.233115  136.809368   \n",
       "std      9.432617   18.514154   109.384145    0.423046   25.460334   \n",
       "min     28.000000    0.000000     0.000000    0.000000   60.000000   \n",
       "25%     47.000000  120.000000   173.250000    0.000000  120.000000   \n",
       "50%     54.000000  130.000000   223.000000    0.000000  138.000000   \n",
       "75%     60.000000  140.000000   267.000000    0.000000  156.000000   \n",
       "max     77.000000  200.000000   603.000000    1.000000  202.000000   \n",
       "\n",
       "          Oldpeak  HeartDisease  \n",
       "count  918.000000    918.000000  \n",
       "mean     0.887364      0.553377  \n",
       "std      1.066570      0.497414  \n",
       "min     -2.600000      0.000000  \n",
       "25%      0.000000      0.000000  \n",
       "50%      0.600000      1.000000  \n",
       "75%      1.500000      1.000000  \n",
       "max      6.200000      1.000000  "
      ]
     },
     "execution_count": 139,
     "metadata": {},
     "output_type": "execute_result"
    }
   ],
   "source": [
    "df.describe()"
   ]
  },
  {
   "cell_type": "code",
   "execution_count": 140,
   "id": "b9d81dde",
   "metadata": {},
   "outputs": [
    {
     "data": {
      "text/plain": [
       "False"
      ]
     },
     "execution_count": 140,
     "metadata": {},
     "output_type": "execute_result"
    }
   ],
   "source": [
    "df.duplicated().any()"
   ]
  },
  {
   "cell_type": "markdown",
   "id": "0de2305d",
   "metadata": {},
   "source": [
    "There have no any duplicate values in whole dataset"
   ]
  },
  {
   "cell_type": "code",
   "execution_count": 141,
   "id": "4a07650c",
   "metadata": {},
   "outputs": [
    {
     "data": {
      "text/html": [
       "<div>\n",
       "<style scoped>\n",
       "    .dataframe tbody tr th:only-of-type {\n",
       "        vertical-align: middle;\n",
       "    }\n",
       "\n",
       "    .dataframe tbody tr th {\n",
       "        vertical-align: top;\n",
       "    }\n",
       "\n",
       "    .dataframe thead th {\n",
       "        text-align: right;\n",
       "    }\n",
       "</style>\n",
       "<table border=\"1\" class=\"dataframe\">\n",
       "  <thead>\n",
       "    <tr style=\"text-align: right;\">\n",
       "      <th></th>\n",
       "      <th>Age</th>\n",
       "      <th>RestingBP</th>\n",
       "      <th>Cholesterol</th>\n",
       "      <th>FastingBS</th>\n",
       "      <th>MaxHR</th>\n",
       "      <th>Oldpeak</th>\n",
       "      <th>HeartDisease</th>\n",
       "    </tr>\n",
       "  </thead>\n",
       "  <tbody>\n",
       "    <tr>\n",
       "      <th>Age</th>\n",
       "      <td>1.000000</td>\n",
       "      <td>0.254399</td>\n",
       "      <td>-0.095282</td>\n",
       "      <td>0.198039</td>\n",
       "      <td>-0.382045</td>\n",
       "      <td>0.258612</td>\n",
       "      <td>0.282039</td>\n",
       "    </tr>\n",
       "    <tr>\n",
       "      <th>RestingBP</th>\n",
       "      <td>0.254399</td>\n",
       "      <td>1.000000</td>\n",
       "      <td>0.100893</td>\n",
       "      <td>0.070193</td>\n",
       "      <td>-0.112135</td>\n",
       "      <td>0.164803</td>\n",
       "      <td>0.107589</td>\n",
       "    </tr>\n",
       "    <tr>\n",
       "      <th>Cholesterol</th>\n",
       "      <td>-0.095282</td>\n",
       "      <td>0.100893</td>\n",
       "      <td>1.000000</td>\n",
       "      <td>-0.260974</td>\n",
       "      <td>0.235792</td>\n",
       "      <td>0.050148</td>\n",
       "      <td>-0.232741</td>\n",
       "    </tr>\n",
       "    <tr>\n",
       "      <th>FastingBS</th>\n",
       "      <td>0.198039</td>\n",
       "      <td>0.070193</td>\n",
       "      <td>-0.260974</td>\n",
       "      <td>1.000000</td>\n",
       "      <td>-0.131438</td>\n",
       "      <td>0.052698</td>\n",
       "      <td>0.267291</td>\n",
       "    </tr>\n",
       "    <tr>\n",
       "      <th>MaxHR</th>\n",
       "      <td>-0.382045</td>\n",
       "      <td>-0.112135</td>\n",
       "      <td>0.235792</td>\n",
       "      <td>-0.131438</td>\n",
       "      <td>1.000000</td>\n",
       "      <td>-0.160691</td>\n",
       "      <td>-0.400421</td>\n",
       "    </tr>\n",
       "    <tr>\n",
       "      <th>Oldpeak</th>\n",
       "      <td>0.258612</td>\n",
       "      <td>0.164803</td>\n",
       "      <td>0.050148</td>\n",
       "      <td>0.052698</td>\n",
       "      <td>-0.160691</td>\n",
       "      <td>1.000000</td>\n",
       "      <td>0.403951</td>\n",
       "    </tr>\n",
       "    <tr>\n",
       "      <th>HeartDisease</th>\n",
       "      <td>0.282039</td>\n",
       "      <td>0.107589</td>\n",
       "      <td>-0.232741</td>\n",
       "      <td>0.267291</td>\n",
       "      <td>-0.400421</td>\n",
       "      <td>0.403951</td>\n",
       "      <td>1.000000</td>\n",
       "    </tr>\n",
       "  </tbody>\n",
       "</table>\n",
       "</div>"
      ],
      "text/plain": [
       "                   Age  RestingBP  Cholesterol  FastingBS     MaxHR   Oldpeak  \\\n",
       "Age           1.000000   0.254399    -0.095282   0.198039 -0.382045  0.258612   \n",
       "RestingBP     0.254399   1.000000     0.100893   0.070193 -0.112135  0.164803   \n",
       "Cholesterol  -0.095282   0.100893     1.000000  -0.260974  0.235792  0.050148   \n",
       "FastingBS     0.198039   0.070193    -0.260974   1.000000 -0.131438  0.052698   \n",
       "MaxHR        -0.382045  -0.112135     0.235792  -0.131438  1.000000 -0.160691   \n",
       "Oldpeak       0.258612   0.164803     0.050148   0.052698 -0.160691  1.000000   \n",
       "HeartDisease  0.282039   0.107589    -0.232741   0.267291 -0.400421  0.403951   \n",
       "\n",
       "              HeartDisease  \n",
       "Age               0.282039  \n",
       "RestingBP         0.107589  \n",
       "Cholesterol      -0.232741  \n",
       "FastingBS         0.267291  \n",
       "MaxHR            -0.400421  \n",
       "Oldpeak           0.403951  \n",
       "HeartDisease      1.000000  "
      ]
     },
     "execution_count": 141,
     "metadata": {},
     "output_type": "execute_result"
    }
   ],
   "source": [
    "df.corr()"
   ]
  },
  {
   "cell_type": "code",
   "execution_count": 142,
   "id": "012cf1e1",
   "metadata": {},
   "outputs": [
    {
     "data": {
      "text/plain": [
       "<AxesSubplot:>"
      ]
     },
     "execution_count": 142,
     "metadata": {},
     "output_type": "execute_result"
    },
    {
     "data": {
      "image/png": "[encoded data removed]",
      "text/plain": [
       "<Figure size 720x360 with 2 Axes>"
      ]
     },
     "metadata": {
      "needs_background": "light"
     },
     "output_type": "display_data"
    }
   ],
   "source": [
    "plt.subplots(figsize=(10,5))\n",
    "sns.heatmap(df.corr(), annot=True)"
   ]
  },
  {
   "cell_type": "markdown",
   "id": "adcd4055",
   "metadata": {},
   "source": [
    "We can see there have some positive & negative correlation, for example\n",
    "* As age increases, heart disease also increases so there have a positive correlation between them\n",
    "* There have a negative correlation between Fasting Blood Sugar & Cholesterol, maybe both the parameters are not affecting each other directly such as if Fasting Blood Sugar going higher, Cholesterol may goes down or normal\n"
   ]
  },
  {
   "cell_type": "code",
   "execution_count": 143,
   "id": "cbf8b8f9",
   "metadata": {},
   "outputs": [
    {
     "data": {
      "image/png": "[encoded data removed]",
      "text/plain": [
       "<Figure size 1440x720 with 9 Axes>"
      ]
     },
     "metadata": {
      "needs_background": "light"
     },
     "output_type": "display_data"
    }
   ],
   "source": [
    "df.hist(figsize=(20,10))\n",
    "plt.show()"
   ]
  },
  {
   "cell_type": "code",
   "execution_count": 144,
   "id": "a581bd3d",
   "metadata": {},
   "outputs": [
    {
     "name": "stderr",
     "output_type": "stream",
     "text": [
      "C:\\Users\\user\\anaconda3\\lib\\site-packages\\seaborn\\distributions.py:2619: FutureWarning: `distplot` is a deprecated function and will be removed in a future version. Please adapt your code to use either `displot` (a figure-level function with similar flexibility) or `histplot` (an axes-level function for histograms).\n",
      "  warnings.warn(msg, FutureWarning)\n"
     ]
    },
    {
     "data": {
      "text/plain": [
       "<AxesSubplot:xlabel='Age', ylabel='Density'>"
      ]
     },
     "execution_count": 144,
     "metadata": {},
     "output_type": "execute_result"
    },
    {
     "data": {
      "image/png": "[encoded data removed]",
      "text/plain": [
       "<Figure size 432x288 with 1 Axes>"
      ]
     },
     "metadata": {
      "needs_background": "light"
     },
     "output_type": "display_data"
    }
   ],
   "source": [
    "sns.distplot(df['Age'])"
   ]
  },
  {
   "cell_type": "markdown",
   "id": "a09a2225",
   "metadata": {},
   "source": [
    "By plotting histogram we can say that only Age column is normally distributed  "
   ]
  },
  {
   "cell_type": "code",
   "execution_count": 145,
   "id": "d364cf0b",
   "metadata": {},
   "outputs": [
    {
     "data": {
      "text/plain": [
       "1    508\n",
       "0    410\n",
       "Name: HeartDisease, dtype: int64"
      ]
     },
     "execution_count": 145,
     "metadata": {},
     "output_type": "execute_result"
    }
   ],
   "source": [
    "#counting how many people got affected by Heart Disease\n",
    "\n",
    "df.HeartDisease.value_counts()"
   ]
  },
  {
   "cell_type": "markdown",
   "id": "6db5df73",
   "metadata": {},
   "source": [
    "In our dataset, the total value of affected people by Heart Disease much higher (508) than the people who are not affected by Heart Disease (410) "
   ]
  },
  {
   "cell_type": "code",
   "execution_count": 146,
   "id": "e8c59bc7",
   "metadata": {},
   "outputs": [
    {
     "data": {
      "text/plain": [
       "M    725\n",
       "F    193\n",
       "Name: Sex, dtype: int64"
      ]
     },
     "execution_count": 146,
     "metadata": {},
     "output_type": "execute_result"
    }
   ],
   "source": [
    "#counting total value sex wise\n",
    "\n",
    "df['Sex'].value_counts()"
   ]
  },
  {
   "cell_type": "markdown",
   "id": "c0356caa",
   "metadata": {},
   "source": [
    "In our dataset, there have total 725 male and 193 female candidates"
   ]
  },
  {
   "cell_type": "code",
   "execution_count": 147,
   "id": "158e2c83",
   "metadata": {},
   "outputs": [
    {
     "data": {
      "text/plain": [
       "<AxesSubplot:xlabel='Sex', ylabel='count'>"
      ]
     },
     "execution_count": 147,
     "metadata": {},
     "output_type": "execute_result"
    },
    {
     "data": {
      "image/png": "[encoded data removed]",
      "text/plain": [
       "<Figure size 432x288 with 1 Axes>"
      ]
     },
     "metadata": {
      "needs_background": "light"
     },
     "output_type": "display_data"
    }
   ],
   "source": [
    "#to find the value sex wise who got affected by Heart Disease \n",
    "\n",
    "sns.countplot(x='Sex', hue='HeartDisease', data=df)"
   ]
  },
  {
   "cell_type": "markdown",
   "id": "fcaadfc1",
   "metadata": {},
   "source": [
    "Using count plot we can say males are more affected than females by heart disease"
   ]
  },
  {
   "cell_type": "code",
   "execution_count": 148,
   "id": "7341e6ed",
   "metadata": {},
   "outputs": [
    {
     "data": {
      "text/plain": [
       "814    77\n",
       "447    77\n",
       "541    76\n",
       "506    75\n",
       "491    75\n",
       "       ..\n",
       "119    34\n",
       "115    33\n",
       "294    32\n",
       "76     32\n",
       "56     31\n",
       "Name: Age, Length: 508, dtype: int64"
      ]
     },
     "execution_count": 148,
     "metadata": {},
     "output_type": "execute_result"
    }
   ],
   "source": [
    "#to find max affected people age wise\n",
    "\n",
    "df[df.HeartDisease == 1].Age.sort_values(ascending = False)"
   ]
  },
  {
   "cell_type": "code",
   "execution_count": 149,
   "id": "913e9852",
   "metadata": {},
   "outputs": [
    {
     "data": {
      "text/plain": [
       "208    28\n",
       "170    29\n",
       "219    29\n",
       "829    29\n",
       "215    30\n",
       "       ..\n",
       "336    72\n",
       "439    74\n",
       "619    74\n",
       "556    75\n",
       "688    76\n",
       "Name: Age, Length: 410, dtype: int64"
      ]
     },
     "execution_count": 149,
     "metadata": {},
     "output_type": "execute_result"
    }
   ],
   "source": [
    "df[df.HeartDisease == 0].Age.sort_values(ascending = True)"
   ]
  },
  {
   "cell_type": "code",
   "execution_count": 150,
   "id": "132ca8a7",
   "metadata": {},
   "outputs": [
    {
     "data": {
      "text/plain": [
       "77"
      ]
     },
     "execution_count": 150,
     "metadata": {},
     "output_type": "execute_result"
    }
   ],
   "source": [
    "df[df.HeartDisease == 1].Age.max()"
   ]
  },
  {
   "cell_type": "markdown",
   "id": "acdef1db",
   "metadata": {},
   "source": [
    "Here we can see that,\n",
    "* In the age of 77 people got affected more by the heart disease\n",
    "* On the other hand, who don't have heart disease those age starting from 28\n",
    "\n",
    "# Interpretation:\n",
    "\n",
    "From here we can say that as age increases, people got affected more by the heart disease than younger people. "
   ]
  },
  {
   "cell_type": "code",
   "execution_count": 151,
   "id": "0b8d4645",
   "metadata": {},
   "outputs": [
    {
     "data": {
      "text/plain": [
       "<seaborn.axisgrid.FacetGrid at 0x243911d7a90>"
      ]
     },
     "execution_count": 151,
     "metadata": {},
     "output_type": "execute_result"
    },
    {
     "data": {
      "image/png": "[encoded data removed]",
      "text/plain": [
       "<Figure size 432x216 with 2 Axes>"
      ]
     },
     "metadata": {
      "needs_background": "light"
     },
     "output_type": "display_data"
    }
   ],
   "source": [
    "#showing graphically affected & non-affected through age wise\n",
    "\n",
    "g = sns.FacetGrid(data=df, col='HeartDisease')\n",
    "g.map(plt.hist, 'Age')"
   ]
  },
  {
   "cell_type": "code",
   "execution_count": 152,
   "id": "06bf66fa",
   "metadata": {},
   "outputs": [
    {
     "data": {
      "text/plain": [
       "<AxesSubplot:xlabel='ChestPainType', ylabel='count'>"
      ]
     },
     "execution_count": 152,
     "metadata": {},
     "output_type": "execute_result"
    },
    {
     "data": {
      "image/png": "[encoded data removed]",
      "text/plain": [
       "<Figure size 432x288 with 1 Axes>"
      ]
     },
     "metadata": {
      "needs_background": "light"
     },
     "output_type": "display_data"
    }
   ],
   "source": [
    "#showing graphically Chest pain type through sex wise\n",
    "\n",
    "sns.countplot(x='ChestPainType', hue='Sex', data=df)"
   ]
  },
  {
   "cell_type": "markdown",
   "id": "52d588e4",
   "metadata": {},
   "source": [
    "# Interpretation:\n",
    "\n",
    "* There have four types of Chest pain, according to our dataset males are hugely affected by the ASY type & lesser affected by the TA type\n",
    "* For the case of female, this affected rate is very minimum compared with the male. "
   ]
  },
  {
   "cell_type": "code",
   "execution_count": 153,
   "id": "0170060f",
   "metadata": {},
   "outputs": [
    {
     "data": {
      "text/plain": [
       "<AxesSubplot:xlabel='FastingBS', ylabel='count'>"
      ]
     },
     "execution_count": 153,
     "metadata": {},
     "output_type": "execute_result"
    },
    {
     "data": {
      "image/png": "[encoded data removed]",
      "text/plain": [
       "<Figure size 432x288 with 1 Axes>"
      ]
     },
     "metadata": {
      "needs_background": "light"
     },
     "output_type": "display_data"
    }
   ],
   "source": [
    "#showing graphically FastingBS\n",
    "sns.countplot(x='FastingBS', hue='HeartDisease', data=df)"
   ]
  },
  {
   "cell_type": "markdown",
   "id": "7cd07f93",
   "metadata": {},
   "source": [
    "According to our dataset who has FastingBS they are lesser affected by the heart disease, and who has not FastingBS they affected in high amounts by heart disease"
   ]
  },
  {
   "cell_type": "code",
   "execution_count": 154,
   "id": "9f7fd8bb",
   "metadata": {},
   "outputs": [
    {
     "data": {
      "text/plain": [
       "0      152\n",
       "282      7\n",
       "216      6\n",
       "254      6\n",
       "223      5\n",
       "      ... \n",
       "242      1\n",
       "126      1\n",
       "491      1\n",
       "355      1\n",
       "131      1\n",
       "Name: Cholesterol, Length: 175, dtype: int64"
      ]
     },
     "execution_count": 154,
     "metadata": {},
     "output_type": "execute_result"
    }
   ],
   "source": [
    "#Cholesterol with heart disease\n",
    "\n",
    "df[df.HeartDisease == 1].Cholesterol.value_counts()"
   ]
  },
  {
   "cell_type": "code",
   "execution_count": 155,
   "id": "f64ba119",
   "metadata": {},
   "outputs": [
    {
     "data": {
      "text/plain": [
       "Sex\n",
       "F    193\n",
       "M    725\n",
       "Name: Cholesterol, dtype: int64"
      ]
     },
     "execution_count": 155,
     "metadata": {},
     "output_type": "execute_result"
    }
   ],
   "source": [
    "#Cholesterol with sex wise\n",
    "\n",
    "df.groupby(\"Sex\").Cholesterol.count()"
   ]
  },
  {
   "cell_type": "markdown",
   "id": "f5d14fe5",
   "metadata": {},
   "source": [
    "Males have more Cholesterol than females"
   ]
  },
  {
   "cell_type": "code",
   "execution_count": 156,
   "id": "aa4a9b86",
   "metadata": {},
   "outputs": [
    {
     "data": {
      "text/plain": [
       "<AxesSubplot:xlabel='RestingECG', ylabel='count'>"
      ]
     },
     "execution_count": 156,
     "metadata": {},
     "output_type": "execute_result"
    },
    {
     "data": {
      "image/png": "[encoded data removed]",
      "text/plain": [
       "<Figure size 432x288 with 1 Axes>"
      ]
     },
     "metadata": {
      "needs_background": "light"
     },
     "output_type": "display_data"
    }
   ],
   "source": [
    "#showing how RestingECG varries w.r.t HeartDisease\n",
    "\n",
    "sns.countplot(x='RestingECG', hue='HeartDisease', data=df)"
   ]
  },
  {
   "cell_type": "markdown",
   "id": "0adb2365",
   "metadata": {},
   "source": [
    "Resting ECG are three types. For who have normal Resting ECG those people has affected more in Heart Disease compared with other two ST & LVH"
   ]
  },
  {
   "cell_type": "code",
   "execution_count": 157,
   "id": "f42bca2f",
   "metadata": {},
   "outputs": [
    {
     "data": {
      "text/plain": [
       "<AxesSubplot:xlabel='ST_Slope', ylabel='count'>"
      ]
     },
     "execution_count": 157,
     "metadata": {},
     "output_type": "execute_result"
    },
    {
     "data": {
      "image/png": "[encoded data removed]",
      "text/plain": [
       "<Figure size 432x288 with 1 Axes>"
      ]
     },
     "metadata": {
      "needs_background": "light"
     },
     "output_type": "display_data"
    }
   ],
   "source": [
    "#showing how ST_Slope varries w.r.t RestingECG\n",
    "\n",
    "sns.countplot(x='ST_Slope', hue='RestingECG', data=df)"
   ]
  },
  {
   "cell_type": "code",
   "execution_count": 158,
   "id": "8ea91fef",
   "metadata": {},
   "outputs": [
    {
     "data": {
      "text/plain": [
       "<AxesSubplot:xlabel='ExerciseAngina', ylabel='count'>"
      ]
     },
     "execution_count": 158,
     "metadata": {},
     "output_type": "execute_result"
    },
    {
     "data": {
      "image/png": "[encoded data removed]",
      "text/plain": [
       "<Figure size 432x288 with 1 Axes>"
      ]
     },
     "metadata": {
      "needs_background": "light"
     },
     "output_type": "display_data"
    }
   ],
   "source": [
    "#showing how HeartDisease varries w.r.t ExerciseAngina\n",
    "\n",
    "sns.countplot(x='ExerciseAngina', hue='HeartDisease', data=df)"
   ]
  },
  {
   "cell_type": "markdown",
   "id": "7a955c2e",
   "metadata": {},
   "source": [
    "* Who has ExerciseAngina or who do not exercise, they are affected highly in Heart Disease\n",
    "* Who doing exercise daily, they are affected in lesser amount"
   ]
  },
  {
   "cell_type": "code",
   "execution_count": 159,
   "id": "e890fbd3",
   "metadata": {},
   "outputs": [
    {
     "data": {
      "text/plain": [
       "814    77\n",
       "447    77\n",
       "556    75\n",
       "506    75\n",
       "553    74\n",
       "       ..\n",
       "808    35\n",
       "405    35\n",
       "696    35\n",
       "115    33\n",
       "56     31\n",
       "Name: Age, Length: 371, dtype: int64"
      ]
     },
     "execution_count": 159,
     "metadata": {},
     "output_type": "execute_result"
    }
   ],
   "source": [
    "#sorting by age wise who has ExerciseAngina \n",
    "\n",
    "df[df.ExerciseAngina == 'Y'].Age.sort_values(ascending = False)"
   ]
  },
  {
   "cell_type": "markdown",
   "id": "ba2f6c98",
   "metadata": {},
   "source": [
    "Old people has more ExerciseAngina than youngers"
   ]
  },
  {
   "cell_type": "code",
   "execution_count": 160,
   "id": "d5736254",
   "metadata": {},
   "outputs": [
    {
     "data": {
      "text/plain": [
       "202"
      ]
     },
     "execution_count": 160,
     "metadata": {},
     "output_type": "execute_result"
    }
   ],
   "source": [
    "#maximum heart rate value\n",
    "\n",
    "df.MaxHR.max()"
   ]
  },
  {
   "cell_type": "code",
   "execution_count": 161,
   "id": "ffe840a2",
   "metadata": {},
   "outputs": [
    {
     "data": {
      "text/plain": [
       "<matplotlib.collections.PathCollection at 0x2439257abe0>"
      ]
     },
     "execution_count": 161,
     "metadata": {},
     "output_type": "execute_result"
    },
    {
     "data": {
      "image/png": "[encoded data removed]",
      "text/plain": [
       "<Figure size 432x288 with 1 Axes>"
      ]
     },
     "metadata": {
      "needs_background": "light"
     },
     "output_type": "display_data"
    }
   ],
   "source": [
    "#plotting age wise heart rate\n",
    "\n",
    "plt.scatter(x='Age',y='MaxHR', data=df)"
   ]
  },
  {
   "cell_type": "markdown",
   "id": "d1f8ac11",
   "metadata": {},
   "source": [
    "According to our dataset, we can see that maximum heart rate distributed between the age of 50 to 65"
   ]
  },
  {
   "cell_type": "code",
   "execution_count": 162,
   "id": "99b6c7cb",
   "metadata": {},
   "outputs": [
    {
     "data": {
      "text/plain": [
       "<AxesSubplot:xlabel='ST_Slope', ylabel='count'>"
      ]
     },
     "execution_count": 162,
     "metadata": {},
     "output_type": "execute_result"
    },
    {
     "data": {
      "image/png": "[encoded data removed]",
      "text/plain": [
       "<Figure size 432x288 with 1 Axes>"
      ]
     },
     "metadata": {
      "needs_background": "light"
     },
     "output_type": "display_data"
    }
   ],
   "source": [
    "#showing how ST_Slope varries w.r.t HeartDisease\n",
    "\n",
    "sns.countplot(x='ST_Slope', hue='HeartDisease', data=df)"
   ]
  },
  {
   "cell_type": "markdown",
   "id": "869be21b",
   "metadata": {},
   "source": [
    "# Conclusion from the EDA:\n",
    "\n",
    "1. Age wise we can say aged people (more specifically above 50) needs more awareness by changing their lifestyle, food habits, doing exercise everyday, then only they can prevent this Heart Disease\n",
    "2. According to our dataset sex wise males are more affected, so males need more aware about heart disease \n",
    "3. Who do not have blood sugar that's good thing, but they should keep aware about heart disease, because according to our dataset they are affected more in heart disease \n",
    "4. Every person should keep some good habits in their daily life regardless age & sex wise, then only we can prevent heart disease. Because this disease never occurs overnight, this disease occurs depending on the habit of long days"
   ]
  },
  {
   "cell_type": "markdown",
   "id": "dfc3c00b",
   "metadata": {},
   "source": [
    "# Data Preprocessing"
   ]
  },
  {
   "cell_type": "code",
   "execution_count": 163,
   "id": "4e93aaca",
   "metadata": {},
   "outputs": [],
   "source": [
    "#finding dummy variables\n",
    "new_df = pd.get_dummies(df[['ExerciseAngina', 'RestingECG', 'ChestPainType', 'Sex', 'ST_Slope']], drop_first = True)"
   ]
  },
  {
   "cell_type": "code",
   "execution_count": 164,
   "id": "8a25ca65",
   "metadata": {},
   "outputs": [
    {
     "data": {
      "text/html": [
       "<div>\n",
       "<style scoped>\n",
       "    .dataframe tbody tr th:only-of-type {\n",
       "        vertical-align: middle;\n",
       "    }\n",
       "\n",
       "    .dataframe tbody tr th {\n",
       "        vertical-align: top;\n",
       "    }\n",
       "\n",
       "    .dataframe thead th {\n",
       "        text-align: right;\n",
       "    }\n",
       "</style>\n",
       "<table border=\"1\" class=\"dataframe\">\n",
       "  <thead>\n",
       "    <tr style=\"text-align: right;\">\n",
       "      <th></th>\n",
       "      <th>ExerciseAngina_Y</th>\n",
       "      <th>RestingECG_Normal</th>\n",
       "      <th>RestingECG_ST</th>\n",
       "      <th>ChestPainType_ATA</th>\n",
       "      <th>ChestPainType_NAP</th>\n",
       "      <th>ChestPainType_TA</th>\n",
       "      <th>Sex_M</th>\n",
       "      <th>ST_Slope_Flat</th>\n",
       "      <th>ST_Slope_Up</th>\n",
       "    </tr>\n",
       "  </thead>\n",
       "  <tbody>\n",
       "    <tr>\n",
       "      <th>0</th>\n",
       "      <td>0</td>\n",
       "      <td>1</td>\n",
       "      <td>0</td>\n",
       "      <td>1</td>\n",
       "      <td>0</td>\n",
       "      <td>0</td>\n",
       "      <td>1</td>\n",
       "      <td>0</td>\n",
       "      <td>1</td>\n",
       "    </tr>\n",
       "    <tr>\n",
       "      <th>1</th>\n",
       "      <td>0</td>\n",
       "      <td>1</td>\n",
       "      <td>0</td>\n",
       "      <td>0</td>\n",
       "      <td>1</td>\n",
       "      <td>0</td>\n",
       "      <td>0</td>\n",
       "      <td>1</td>\n",
       "      <td>0</td>\n",
       "    </tr>\n",
       "    <tr>\n",
       "      <th>2</th>\n",
       "      <td>0</td>\n",
       "      <td>0</td>\n",
       "      <td>1</td>\n",
       "      <td>1</td>\n",
       "      <td>0</td>\n",
       "      <td>0</td>\n",
       "      <td>1</td>\n",
       "      <td>0</td>\n",
       "      <td>1</td>\n",
       "    </tr>\n",
       "    <tr>\n",
       "      <th>3</th>\n",
       "      <td>1</td>\n",
       "      <td>1</td>\n",
       "      <td>0</td>\n",
       "      <td>0</td>\n",
       "      <td>0</td>\n",
       "      <td>0</td>\n",
       "      <td>0</td>\n",
       "      <td>1</td>\n",
       "      <td>0</td>\n",
       "    </tr>\n",
       "    <tr>\n",
       "      <th>4</th>\n",
       "      <td>0</td>\n",
       "      <td>1</td>\n",
       "      <td>0</td>\n",
       "      <td>0</td>\n",
       "      <td>1</td>\n",
       "      <td>0</td>\n",
       "      <td>1</td>\n",
       "      <td>0</td>\n",
       "      <td>1</td>\n",
       "    </tr>\n",
       "    <tr>\n",
       "      <th>...</th>\n",
       "      <td>...</td>\n",
       "      <td>...</td>\n",
       "      <td>...</td>\n",
       "      <td>...</td>\n",
       "      <td>...</td>\n",
       "      <td>...</td>\n",
       "      <td>...</td>\n",
       "      <td>...</td>\n",
       "      <td>...</td>\n",
       "    </tr>\n",
       "    <tr>\n",
       "      <th>913</th>\n",
       "      <td>0</td>\n",
       "      <td>1</td>\n",
       "      <td>0</td>\n",
       "      <td>0</td>\n",
       "      <td>0</td>\n",
       "      <td>1</td>\n",
       "      <td>1</td>\n",
       "      <td>1</td>\n",
       "      <td>0</td>\n",
       "    </tr>\n",
       "    <tr>\n",
       "      <th>914</th>\n",
       "      <td>0</td>\n",
       "      <td>1</td>\n",
       "      <td>0</td>\n",
       "      <td>0</td>\n",
       "      <td>0</td>\n",
       "      <td>0</td>\n",
       "      <td>1</td>\n",
       "      <td>1</td>\n",
       "      <td>0</td>\n",
       "    </tr>\n",
       "    <tr>\n",
       "      <th>915</th>\n",
       "      <td>1</td>\n",
       "      <td>1</td>\n",
       "      <td>0</td>\n",
       "      <td>0</td>\n",
       "      <td>0</td>\n",
       "      <td>0</td>\n",
       "      <td>1</td>\n",
       "      <td>1</td>\n",
       "      <td>0</td>\n",
       "    </tr>\n",
       "    <tr>\n",
       "      <th>916</th>\n",
       "      <td>0</td>\n",
       "      <td>0</td>\n",
       "      <td>0</td>\n",
       "      <td>1</td>\n",
       "      <td>0</td>\n",
       "      <td>0</td>\n",
       "      <td>0</td>\n",
       "      <td>1</td>\n",
       "      <td>0</td>\n",
       "    </tr>\n",
       "    <tr>\n",
       "      <th>917</th>\n",
       "      <td>0</td>\n",
       "      <td>1</td>\n",
       "      <td>0</td>\n",
       "      <td>0</td>\n",
       "      <td>1</td>\n",
       "      <td>0</td>\n",
       "      <td>1</td>\n",
       "      <td>0</td>\n",
       "      <td>1</td>\n",
       "    </tr>\n",
       "  </tbody>\n",
       "</table>\n",
       "<p>918 rows × 9 columns</p>\n",
       "</div>"
      ],
      "text/plain": [
       "     ExerciseAngina_Y  RestingECG_Normal  RestingECG_ST  ChestPainType_ATA  \\\n",
       "0                   0                  1              0                  1   \n",
       "1                   0                  1              0                  0   \n",
       "2                   0                  0              1                  1   \n",
       "3                   1                  1              0                  0   \n",
       "4                   0                  1              0                  0   \n",
       "..                ...                ...            ...                ...   \n",
       "913                 0                  1              0                  0   \n",
       "914                 0                  1              0                  0   \n",
       "915                 1                  1              0                  0   \n",
       "916                 0                  0              0                  1   \n",
       "917                 0                  1              0                  0   \n",
       "\n",
       "     ChestPainType_NAP  ChestPainType_TA  Sex_M  ST_Slope_Flat  ST_Slope_Up  \n",
       "0                    0                 0      1              0            1  \n",
       "1                    1                 0      0              1            0  \n",
       "2                    0                 0      1              0            1  \n",
       "3                    0                 0      0              1            0  \n",
       "4                    1                 0      1              0            1  \n",
       "..                 ...               ...    ...            ...          ...  \n",
       "913                  0                 1      1              1            0  \n",
       "914                  0                 0      1              1            0  \n",
       "915                  0                 0      1              1            0  \n",
       "916                  0                 0      0              1            0  \n",
       "917                  1                 0      1              0            1  \n",
       "\n",
       "[918 rows x 9 columns]"
      ]
     },
     "execution_count": 164,
     "metadata": {},
     "output_type": "execute_result"
    }
   ],
   "source": [
    "new_df"
   ]
  },
  {
   "cell_type": "code",
   "execution_count": 165,
   "id": "7ea99e25",
   "metadata": {},
   "outputs": [],
   "source": [
    "#joining dummy variables with the main dataset\n",
    "df1 = pd.concat([df, new_df], axis=1)"
   ]
  },
  {
   "cell_type": "code",
   "execution_count": 166,
   "id": "1b69332b",
   "metadata": {},
   "outputs": [
    {
     "data": {
      "text/html": [
       "<div>\n",
       "<style scoped>\n",
       "    .dataframe tbody tr th:only-of-type {\n",
       "        vertical-align: middle;\n",
       "    }\n",
       "\n",
       "    .dataframe tbody tr th {\n",
       "        vertical-align: top;\n",
       "    }\n",
       "\n",
       "    .dataframe thead th {\n",
       "        text-align: right;\n",
       "    }\n",
       "</style>\n",
       "<table border=\"1\" class=\"dataframe\">\n",
       "  <thead>\n",
       "    <tr style=\"text-align: right;\">\n",
       "      <th></th>\n",
       "      <th>Age</th>\n",
       "      <th>Sex</th>\n",
       "      <th>ChestPainType</th>\n",
       "      <th>RestingBP</th>\n",
       "      <th>Cholesterol</th>\n",
       "      <th>FastingBS</th>\n",
       "      <th>RestingECG</th>\n",
       "      <th>MaxHR</th>\n",
       "      <th>ExerciseAngina</th>\n",
       "      <th>Oldpeak</th>\n",
       "      <th>...</th>\n",
       "      <th>HeartDisease</th>\n",
       "      <th>ExerciseAngina_Y</th>\n",
       "      <th>RestingECG_Normal</th>\n",
       "      <th>RestingECG_ST</th>\n",
       "      <th>ChestPainType_ATA</th>\n",
       "      <th>ChestPainType_NAP</th>\n",
       "      <th>ChestPainType_TA</th>\n",
       "      <th>Sex_M</th>\n",
       "      <th>ST_Slope_Flat</th>\n",
       "      <th>ST_Slope_Up</th>\n",
       "    </tr>\n",
       "  </thead>\n",
       "  <tbody>\n",
       "    <tr>\n",
       "      <th>0</th>\n",
       "      <td>40</td>\n",
       "      <td>M</td>\n",
       "      <td>ATA</td>\n",
       "      <td>140</td>\n",
       "      <td>289</td>\n",
       "      <td>0</td>\n",
       "      <td>Normal</td>\n",
       "      <td>172</td>\n",
       "      <td>N</td>\n",
       "      <td>0.0</td>\n",
       "      <td>...</td>\n",
       "      <td>0</td>\n",
       "      <td>0</td>\n",
       "      <td>1</td>\n",
       "      <td>0</td>\n",
       "      <td>1</td>\n",
       "      <td>0</td>\n",
       "      <td>0</td>\n",
       "      <td>1</td>\n",
       "      <td>0</td>\n",
       "      <td>1</td>\n",
       "    </tr>\n",
       "    <tr>\n",
       "      <th>1</th>\n",
       "      <td>49</td>\n",
       "      <td>F</td>\n",
       "      <td>NAP</td>\n",
       "      <td>160</td>\n",
       "      <td>180</td>\n",
       "      <td>0</td>\n",
       "      <td>Normal</td>\n",
       "      <td>156</td>\n",
       "      <td>N</td>\n",
       "      <td>1.0</td>\n",
       "      <td>...</td>\n",
       "      <td>1</td>\n",
       "      <td>0</td>\n",
       "      <td>1</td>\n",
       "      <td>0</td>\n",
       "      <td>0</td>\n",
       "      <td>1</td>\n",
       "      <td>0</td>\n",
       "      <td>0</td>\n",
       "      <td>1</td>\n",
       "      <td>0</td>\n",
       "    </tr>\n",
       "    <tr>\n",
       "      <th>2</th>\n",
       "      <td>37</td>\n",
       "      <td>M</td>\n",
       "      <td>ATA</td>\n",
       "      <td>130</td>\n",
       "      <td>283</td>\n",
       "      <td>0</td>\n",
       "      <td>ST</td>\n",
       "      <td>98</td>\n",
       "      <td>N</td>\n",
       "      <td>0.0</td>\n",
       "      <td>...</td>\n",
       "      <td>0</td>\n",
       "      <td>0</td>\n",
       "      <td>0</td>\n",
       "      <td>1</td>\n",
       "      <td>1</td>\n",
       "      <td>0</td>\n",
       "      <td>0</td>\n",
       "      <td>1</td>\n",
       "      <td>0</td>\n",
       "      <td>1</td>\n",
       "    </tr>\n",
       "    <tr>\n",
       "      <th>3</th>\n",
       "      <td>48</td>\n",
       "      <td>F</td>\n",
       "      <td>ASY</td>\n",
       "      <td>138</td>\n",
       "      <td>214</td>\n",
       "      <td>0</td>\n",
       "      <td>Normal</td>\n",
       "      <td>108</td>\n",
       "      <td>Y</td>\n",
       "      <td>1.5</td>\n",
       "      <td>...</td>\n",
       "      <td>1</td>\n",
       "      <td>1</td>\n",
       "      <td>1</td>\n",
       "      <td>0</td>\n",
       "      <td>0</td>\n",
       "      <td>0</td>\n",
       "      <td>0</td>\n",
       "      <td>0</td>\n",
       "      <td>1</td>\n",
       "      <td>0</td>\n",
       "    </tr>\n",
       "    <tr>\n",
       "      <th>4</th>\n",
       "      <td>54</td>\n",
       "      <td>M</td>\n",
       "      <td>NAP</td>\n",
       "      <td>150</td>\n",
       "      <td>195</td>\n",
       "      <td>0</td>\n",
       "      <td>Normal</td>\n",
       "      <td>122</td>\n",
       "      <td>N</td>\n",
       "      <td>0.0</td>\n",
       "      <td>...</td>\n",
       "      <td>0</td>\n",
       "      <td>0</td>\n",
       "      <td>1</td>\n",
       "      <td>0</td>\n",
       "      <td>0</td>\n",
       "      <td>1</td>\n",
       "      <td>0</td>\n",
       "      <td>1</td>\n",
       "      <td>0</td>\n",
       "      <td>1</td>\n",
       "    </tr>\n",
       "    <tr>\n",
       "      <th>...</th>\n",
       "      <td>...</td>\n",
       "      <td>...</td>\n",
       "      <td>...</td>\n",
       "      <td>...</td>\n",
       "      <td>...</td>\n",
       "      <td>...</td>\n",
       "      <td>...</td>\n",
       "      <td>...</td>\n",
       "      <td>...</td>\n",
       "      <td>...</td>\n",
       "      <td>...</td>\n",
       "      <td>...</td>\n",
       "      <td>...</td>\n",
       "      <td>...</td>\n",
       "      <td>...</td>\n",
       "      <td>...</td>\n",
       "      <td>...</td>\n",
       "      <td>...</td>\n",
       "      <td>...</td>\n",
       "      <td>...</td>\n",
       "      <td>...</td>\n",
       "    </tr>\n",
       "    <tr>\n",
       "      <th>913</th>\n",
       "      <td>45</td>\n",
       "      <td>M</td>\n",
       "      <td>TA</td>\n",
       "      <td>110</td>\n",
       "      <td>264</td>\n",
       "      <td>0</td>\n",
       "      <td>Normal</td>\n",
       "      <td>132</td>\n",
       "      <td>N</td>\n",
       "      <td>1.2</td>\n",
       "      <td>...</td>\n",
       "      <td>1</td>\n",
       "      <td>0</td>\n",
       "      <td>1</td>\n",
       "      <td>0</td>\n",
       "      <td>0</td>\n",
       "      <td>0</td>\n",
       "      <td>1</td>\n",
       "      <td>1</td>\n",
       "      <td>1</td>\n",
       "      <td>0</td>\n",
       "    </tr>\n",
       "    <tr>\n",
       "      <th>914</th>\n",
       "      <td>68</td>\n",
       "      <td>M</td>\n",
       "      <td>ASY</td>\n",
       "      <td>144</td>\n",
       "      <td>193</td>\n",
       "      <td>1</td>\n",
       "      <td>Normal</td>\n",
       "      <td>141</td>\n",
       "      <td>N</td>\n",
       "      <td>3.4</td>\n",
       "      <td>...</td>\n",
       "      <td>1</td>\n",
       "      <td>0</td>\n",
       "      <td>1</td>\n",
       "      <td>0</td>\n",
       "      <td>0</td>\n",
       "      <td>0</td>\n",
       "      <td>0</td>\n",
       "      <td>1</td>\n",
       "      <td>1</td>\n",
       "      <td>0</td>\n",
       "    </tr>\n",
       "    <tr>\n",
       "      <th>915</th>\n",
       "      <td>57</td>\n",
       "      <td>M</td>\n",
       "      <td>ASY</td>\n",
       "      <td>130</td>\n",
       "      <td>131</td>\n",
       "      <td>0</td>\n",
       "      <td>Normal</td>\n",
       "      <td>115</td>\n",
       "      <td>Y</td>\n",
       "      <td>1.2</td>\n",
       "      <td>...</td>\n",
       "      <td>1</td>\n",
       "      <td>1</td>\n",
       "      <td>1</td>\n",
       "      <td>0</td>\n",
       "      <td>0</td>\n",
       "      <td>0</td>\n",
       "      <td>0</td>\n",
       "      <td>1</td>\n",
       "      <td>1</td>\n",
       "      <td>0</td>\n",
       "    </tr>\n",
       "    <tr>\n",
       "      <th>916</th>\n",
       "      <td>57</td>\n",
       "      <td>F</td>\n",
       "      <td>ATA</td>\n",
       "      <td>130</td>\n",
       "      <td>236</td>\n",
       "      <td>0</td>\n",
       "      <td>LVH</td>\n",
       "      <td>174</td>\n",
       "      <td>N</td>\n",
       "      <td>0.0</td>\n",
       "      <td>...</td>\n",
       "      <td>1</td>\n",
       "      <td>0</td>\n",
       "      <td>0</td>\n",
       "      <td>0</td>\n",
       "      <td>1</td>\n",
       "      <td>0</td>\n",
       "      <td>0</td>\n",
       "      <td>0</td>\n",
       "      <td>1</td>\n",
       "      <td>0</td>\n",
       "    </tr>\n",
       "    <tr>\n",
       "      <th>917</th>\n",
       "      <td>38</td>\n",
       "      <td>M</td>\n",
       "      <td>NAP</td>\n",
       "      <td>138</td>\n",
       "      <td>175</td>\n",
       "      <td>0</td>\n",
       "      <td>Normal</td>\n",
       "      <td>173</td>\n",
       "      <td>N</td>\n",
       "      <td>0.0</td>\n",
       "      <td>...</td>\n",
       "      <td>0</td>\n",
       "      <td>0</td>\n",
       "      <td>1</td>\n",
       "      <td>0</td>\n",
       "      <td>0</td>\n",
       "      <td>1</td>\n",
       "      <td>0</td>\n",
       "      <td>1</td>\n",
       "      <td>0</td>\n",
       "      <td>1</td>\n",
       "    </tr>\n",
       "  </tbody>\n",
       "</table>\n",
       "<p>918 rows × 21 columns</p>\n",
       "</div>"
      ],
      "text/plain": [
       "     Age Sex ChestPainType  RestingBP  Cholesterol  FastingBS RestingECG  \\\n",
       "0     40   M           ATA        140          289          0     Normal   \n",
       "1     49   F           NAP        160          180          0     Normal   \n",
       "2     37   M           ATA        130          283          0         ST   \n",
       "3     48   F           ASY        138          214          0     Normal   \n",
       "4     54   M           NAP        150          195          0     Normal   \n",
       "..   ...  ..           ...        ...          ...        ...        ...   \n",
       "913   45   M            TA        110          264          0     Normal   \n",
       "914   68   M           ASY        144          193          1     Normal   \n",
       "915   57   M           ASY        130          131          0     Normal   \n",
       "916   57   F           ATA        130          236          0        LVH   \n",
       "917   38   M           NAP        138          175          0     Normal   \n",
       "\n",
       "     MaxHR ExerciseAngina  Oldpeak  ... HeartDisease  ExerciseAngina_Y  \\\n",
       "0      172              N      0.0  ...            0                 0   \n",
       "1      156              N      1.0  ...            1                 0   \n",
       "2       98              N      0.0  ...            0                 0   \n",
       "3      108              Y      1.5  ...            1                 1   \n",
       "4      122              N      0.0  ...            0                 0   \n",
       "..     ...            ...      ...  ...          ...               ...   \n",
       "913    132              N      1.2  ...            1                 0   \n",
       "914    141              N      3.4  ...            1                 0   \n",
       "915    115              Y      1.2  ...            1                 1   \n",
       "916    174              N      0.0  ...            1                 0   \n",
       "917    173              N      0.0  ...            0                 0   \n",
       "\n",
       "     RestingECG_Normal  RestingECG_ST  ChestPainType_ATA  ChestPainType_NAP  \\\n",
       "0                    1              0                  1                  0   \n",
       "1                    1              0                  0                  1   \n",
       "2                    0              1                  1                  0   \n",
       "3                    1              0                  0                  0   \n",
       "4                    1              0                  0                  1   \n",
       "..                 ...            ...                ...                ...   \n",
       "913                  1              0                  0                  0   \n",
       "914                  1              0                  0                  0   \n",
       "915                  1              0                  0                  0   \n",
       "916                  0              0                  1                  0   \n",
       "917                  1              0                  0                  1   \n",
       "\n",
       "     ChestPainType_TA  Sex_M  ST_Slope_Flat  ST_Slope_Up  \n",
       "0                   0      1              0            1  \n",
       "1                   0      0              1            0  \n",
       "2                   0      1              0            1  \n",
       "3                   0      0              1            0  \n",
       "4                   0      1              0            1  \n",
       "..                ...    ...            ...          ...  \n",
       "913                 1      1              1            0  \n",
       "914                 0      1              1            0  \n",
       "915                 0      1              1            0  \n",
       "916                 0      0              1            0  \n",
       "917                 0      1              0            1  \n",
       "\n",
       "[918 rows x 21 columns]"
      ]
     },
     "execution_count": 166,
     "metadata": {},
     "output_type": "execute_result"
    }
   ],
   "source": [
    "df1"
   ]
  },
  {
   "cell_type": "code",
   "execution_count": 167,
   "id": "682818a9",
   "metadata": {},
   "outputs": [],
   "source": [
    "#create a new dataset with required variables to train\n",
    "df2 = df1[['Sex_M', 'Age', 'MaxHR', 'RestingBP', 'Cholesterol', 'ChestPainType_ATA', 'ChestPainType_NAP', 'ChestPainType_TA', 'ExerciseAngina_Y', 'RestingECG_Normal', 'RestingECG_ST', 'Oldpeak', 'ST_Slope_Flat', 'ST_Slope_Up', 'HeartDisease']]"
   ]
  },
  {
   "cell_type": "code",
   "execution_count": 168,
   "id": "4db51727",
   "metadata": {},
   "outputs": [
    {
     "data": {
      "text/html": [
       "<div>\n",
       "<style scoped>\n",
       "    .dataframe tbody tr th:only-of-type {\n",
       "        vertical-align: middle;\n",
       "    }\n",
       "\n",
       "    .dataframe tbody tr th {\n",
       "        vertical-align: top;\n",
       "    }\n",
       "\n",
       "    .dataframe thead th {\n",
       "        text-align: right;\n",
       "    }\n",
       "</style>\n",
       "<table border=\"1\" class=\"dataframe\">\n",
       "  <thead>\n",
       "    <tr style=\"text-align: right;\">\n",
       "      <th></th>\n",
       "      <th>Sex_M</th>\n",
       "      <th>Age</th>\n",
       "      <th>MaxHR</th>\n",
       "      <th>RestingBP</th>\n",
       "      <th>Cholesterol</th>\n",
       "      <th>ChestPainType_ATA</th>\n",
       "      <th>ChestPainType_NAP</th>\n",
       "      <th>ChestPainType_TA</th>\n",
       "      <th>ExerciseAngina_Y</th>\n",
       "      <th>RestingECG_Normal</th>\n",
       "      <th>RestingECG_ST</th>\n",
       "      <th>Oldpeak</th>\n",
       "      <th>ST_Slope_Flat</th>\n",
       "      <th>ST_Slope_Up</th>\n",
       "      <th>HeartDisease</th>\n",
       "    </tr>\n",
       "  </thead>\n",
       "  <tbody>\n",
       "    <tr>\n",
       "      <th>0</th>\n",
       "      <td>1</td>\n",
       "      <td>40</td>\n",
       "      <td>172</td>\n",
       "      <td>140</td>\n",
       "      <td>289</td>\n",
       "      <td>1</td>\n",
       "      <td>0</td>\n",
       "      <td>0</td>\n",
       "      <td>0</td>\n",
       "      <td>1</td>\n",
       "      <td>0</td>\n",
       "      <td>0.0</td>\n",
       "      <td>0</td>\n",
       "      <td>1</td>\n",
       "      <td>0</td>\n",
       "    </tr>\n",
       "    <tr>\n",
       "      <th>1</th>\n",
       "      <td>0</td>\n",
       "      <td>49</td>\n",
       "      <td>156</td>\n",
       "      <td>160</td>\n",
       "      <td>180</td>\n",
       "      <td>0</td>\n",
       "      <td>1</td>\n",
       "      <td>0</td>\n",
       "      <td>0</td>\n",
       "      <td>1</td>\n",
       "      <td>0</td>\n",
       "      <td>1.0</td>\n",
       "      <td>1</td>\n",
       "      <td>0</td>\n",
       "      <td>1</td>\n",
       "    </tr>\n",
       "    <tr>\n",
       "      <th>2</th>\n",
       "      <td>1</td>\n",
       "      <td>37</td>\n",
       "      <td>98</td>\n",
       "      <td>130</td>\n",
       "      <td>283</td>\n",
       "      <td>1</td>\n",
       "      <td>0</td>\n",
       "      <td>0</td>\n",
       "      <td>0</td>\n",
       "      <td>0</td>\n",
       "      <td>1</td>\n",
       "      <td>0.0</td>\n",
       "      <td>0</td>\n",
       "      <td>1</td>\n",
       "      <td>0</td>\n",
       "    </tr>\n",
       "    <tr>\n",
       "      <th>3</th>\n",
       "      <td>0</td>\n",
       "      <td>48</td>\n",
       "      <td>108</td>\n",
       "      <td>138</td>\n",
       "      <td>214</td>\n",
       "      <td>0</td>\n",
       "      <td>0</td>\n",
       "      <td>0</td>\n",
       "      <td>1</td>\n",
       "      <td>1</td>\n",
       "      <td>0</td>\n",
       "      <td>1.5</td>\n",
       "      <td>1</td>\n",
       "      <td>0</td>\n",
       "      <td>1</td>\n",
       "    </tr>\n",
       "    <tr>\n",
       "      <th>4</th>\n",
       "      <td>1</td>\n",
       "      <td>54</td>\n",
       "      <td>122</td>\n",
       "      <td>150</td>\n",
       "      <td>195</td>\n",
       "      <td>0</td>\n",
       "      <td>1</td>\n",
       "      <td>0</td>\n",
       "      <td>0</td>\n",
       "      <td>1</td>\n",
       "      <td>0</td>\n",
       "      <td>0.0</td>\n",
       "      <td>0</td>\n",
       "      <td>1</td>\n",
       "      <td>0</td>\n",
       "    </tr>\n",
       "    <tr>\n",
       "      <th>...</th>\n",
       "      <td>...</td>\n",
       "      <td>...</td>\n",
       "      <td>...</td>\n",
       "      <td>...</td>\n",
       "      <td>...</td>\n",
       "      <td>...</td>\n",
       "      <td>...</td>\n",
       "      <td>...</td>\n",
       "      <td>...</td>\n",
       "      <td>...</td>\n",
       "      <td>...</td>\n",
       "      <td>...</td>\n",
       "      <td>...</td>\n",
       "      <td>...</td>\n",
       "      <td>...</td>\n",
       "    </tr>\n",
       "    <tr>\n",
       "      <th>913</th>\n",
       "      <td>1</td>\n",
       "      <td>45</td>\n",
       "      <td>132</td>\n",
       "      <td>110</td>\n",
       "      <td>264</td>\n",
       "      <td>0</td>\n",
       "      <td>0</td>\n",
       "      <td>1</td>\n",
       "      <td>0</td>\n",
       "      <td>1</td>\n",
       "      <td>0</td>\n",
       "      <td>1.2</td>\n",
       "      <td>1</td>\n",
       "      <td>0</td>\n",
       "      <td>1</td>\n",
       "    </tr>\n",
       "    <tr>\n",
       "      <th>914</th>\n",
       "      <td>1</td>\n",
       "      <td>68</td>\n",
       "      <td>141</td>\n",
       "      <td>144</td>\n",
       "      <td>193</td>\n",
       "      <td>0</td>\n",
       "      <td>0</td>\n",
       "      <td>0</td>\n",
       "      <td>0</td>\n",
       "      <td>1</td>\n",
       "      <td>0</td>\n",
       "      <td>3.4</td>\n",
       "      <td>1</td>\n",
       "      <td>0</td>\n",
       "      <td>1</td>\n",
       "    </tr>\n",
       "    <tr>\n",
       "      <th>915</th>\n",
       "      <td>1</td>\n",
       "      <td>57</td>\n",
       "      <td>115</td>\n",
       "      <td>130</td>\n",
       "      <td>131</td>\n",
       "      <td>0</td>\n",
       "      <td>0</td>\n",
       "      <td>0</td>\n",
       "      <td>1</td>\n",
       "      <td>1</td>\n",
       "      <td>0</td>\n",
       "      <td>1.2</td>\n",
       "      <td>1</td>\n",
       "      <td>0</td>\n",
       "      <td>1</td>\n",
       "    </tr>\n",
       "    <tr>\n",
       "      <th>916</th>\n",
       "      <td>0</td>\n",
       "      <td>57</td>\n",
       "      <td>174</td>\n",
       "      <td>130</td>\n",
       "      <td>236</td>\n",
       "      <td>1</td>\n",
       "      <td>0</td>\n",
       "      <td>0</td>\n",
       "      <td>0</td>\n",
       "      <td>0</td>\n",
       "      <td>0</td>\n",
       "      <td>0.0</td>\n",
       "      <td>1</td>\n",
       "      <td>0</td>\n",
       "      <td>1</td>\n",
       "    </tr>\n",
       "    <tr>\n",
       "      <th>917</th>\n",
       "      <td>1</td>\n",
       "      <td>38</td>\n",
       "      <td>173</td>\n",
       "      <td>138</td>\n",
       "      <td>175</td>\n",
       "      <td>0</td>\n",
       "      <td>1</td>\n",
       "      <td>0</td>\n",
       "      <td>0</td>\n",
       "      <td>1</td>\n",
       "      <td>0</td>\n",
       "      <td>0.0</td>\n",
       "      <td>0</td>\n",
       "      <td>1</td>\n",
       "      <td>0</td>\n",
       "    </tr>\n",
       "  </tbody>\n",
       "</table>\n",
       "<p>918 rows × 15 columns</p>\n",
       "</div>"
      ],
      "text/plain": [
       "     Sex_M  Age  MaxHR  RestingBP  Cholesterol  ChestPainType_ATA  \\\n",
       "0        1   40    172        140          289                  1   \n",
       "1        0   49    156        160          180                  0   \n",
       "2        1   37     98        130          283                  1   \n",
       "3        0   48    108        138          214                  0   \n",
       "4        1   54    122        150          195                  0   \n",
       "..     ...  ...    ...        ...          ...                ...   \n",
       "913      1   45    132        110          264                  0   \n",
       "914      1   68    141        144          193                  0   \n",
       "915      1   57    115        130          131                  0   \n",
       "916      0   57    174        130          236                  1   \n",
       "917      1   38    173        138          175                  0   \n",
       "\n",
       "     ChestPainType_NAP  ChestPainType_TA  ExerciseAngina_Y  RestingECG_Normal  \\\n",
       "0                    0                 0                 0                  1   \n",
       "1                    1                 0                 0                  1   \n",
       "2                    0                 0                 0                  0   \n",
       "3                    0                 0                 1                  1   \n",
       "4                    1                 0                 0                  1   \n",
       "..                 ...               ...               ...                ...   \n",
       "913                  0                 1                 0                  1   \n",
       "914                  0                 0                 0                  1   \n",
       "915                  0                 0                 1                  1   \n",
       "916                  0                 0                 0                  0   \n",
       "917                  1                 0                 0                  1   \n",
       "\n",
       "     RestingECG_ST  Oldpeak  ST_Slope_Flat  ST_Slope_Up  HeartDisease  \n",
       "0                0      0.0              0            1             0  \n",
       "1                0      1.0              1            0             1  \n",
       "2                1      0.0              0            1             0  \n",
       "3                0      1.5              1            0             1  \n",
       "4                0      0.0              0            1             0  \n",
       "..             ...      ...            ...          ...           ...  \n",
       "913              0      1.2              1            0             1  \n",
       "914              0      3.4              1            0             1  \n",
       "915              0      1.2              1            0             1  \n",
       "916              0      0.0              1            0             1  \n",
       "917              0      0.0              0            1             0  \n",
       "\n",
       "[918 rows x 15 columns]"
      ]
     },
     "execution_count": 168,
     "metadata": {},
     "output_type": "execute_result"
    }
   ],
   "source": [
    "df2"
   ]
  },
  {
   "cell_type": "code",
   "execution_count": 169,
   "id": "e8bd2ba9",
   "metadata": {},
   "outputs": [
    {
     "data": {
      "image/png": "[encoded data removed]",
      "text/plain": [
       "<Figure size 1440x720 with 16 Axes>"
      ]
     },
     "metadata": {
      "needs_background": "light"
     },
     "output_type": "display_data"
    }
   ],
   "source": [
    "df2.hist(figsize=(20,10))\n",
    "plt.show()"
   ]
  },
  {
   "cell_type": "code",
   "execution_count": 170,
   "id": "21e39e82",
   "metadata": {},
   "outputs": [],
   "source": [
    "X = df2[['Sex_M', 'Age', 'MaxHR', 'RestingBP', 'Cholesterol', 'ChestPainType_ATA', 'ChestPainType_NAP', 'ChestPainType_TA', 'ExerciseAngina_Y', 'RestingECG_Normal', 'RestingECG_ST', 'Oldpeak', 'ST_Slope_Flat', 'ST_Slope_Up']]\n",
    "y = df2[['HeartDisease']]"
   ]
  },
  {
   "cell_type": "markdown",
   "id": "ab1ad52e",
   "metadata": {},
   "source": [
    "# Features Scaling"
   ]
  },
  {
   "cell_type": "code",
   "execution_count": 171,
   "id": "ed40afb6",
   "metadata": {},
   "outputs": [],
   "source": [
    "from sklearn.preprocessing import MinMaxScaler"
   ]
  },
  {
   "cell_type": "code",
   "execution_count": 172,
   "id": "e1f26a0a",
   "metadata": {},
   "outputs": [],
   "source": [
    "scaler = MinMaxScaler()"
   ]
  },
  {
   "cell_type": "code",
   "execution_count": 173,
   "id": "06651e33",
   "metadata": {},
   "outputs": [],
   "source": [
    "new = df2.select_dtypes(include=\"float64\")"
   ]
  },
  {
   "cell_type": "code",
   "execution_count": 174,
   "id": "466938ed",
   "metadata": {},
   "outputs": [],
   "source": [
    "new_scaler = scaler.fit_transform(df2)"
   ]
  },
  {
   "cell_type": "code",
   "execution_count": 175,
   "id": "f51d444e",
   "metadata": {},
   "outputs": [],
   "source": [
    "new_df = pd.DataFrame(new_scaler,columns=df2.columns)"
   ]
  },
  {
   "cell_type": "code",
   "execution_count": 176,
   "id": "83861d8b",
   "metadata": {},
   "outputs": [
    {
     "data": {
      "text/html": [
       "<div>\n",
       "<style scoped>\n",
       "    .dataframe tbody tr th:only-of-type {\n",
       "        vertical-align: middle;\n",
       "    }\n",
       "\n",
       "    .dataframe tbody tr th {\n",
       "        vertical-align: top;\n",
       "    }\n",
       "\n",
       "    .dataframe thead th {\n",
       "        text-align: right;\n",
       "    }\n",
       "</style>\n",
       "<table border=\"1\" class=\"dataframe\">\n",
       "  <thead>\n",
       "    <tr style=\"text-align: right;\">\n",
       "      <th></th>\n",
       "      <th>Sex_M</th>\n",
       "      <th>Age</th>\n",
       "      <th>MaxHR</th>\n",
       "      <th>RestingBP</th>\n",
       "      <th>Cholesterol</th>\n",
       "      <th>ChestPainType_ATA</th>\n",
       "      <th>ChestPainType_NAP</th>\n",
       "      <th>ChestPainType_TA</th>\n",
       "      <th>ExerciseAngina_Y</th>\n",
       "      <th>RestingECG_Normal</th>\n",
       "      <th>RestingECG_ST</th>\n",
       "      <th>Oldpeak</th>\n",
       "      <th>ST_Slope_Flat</th>\n",
       "      <th>ST_Slope_Up</th>\n",
       "      <th>HeartDisease</th>\n",
       "    </tr>\n",
       "  </thead>\n",
       "  <tbody>\n",
       "    <tr>\n",
       "      <th>0</th>\n",
       "      <td>1.0</td>\n",
       "      <td>0.244898</td>\n",
       "      <td>0.788732</td>\n",
       "      <td>0.70</td>\n",
       "      <td>0.479270</td>\n",
       "      <td>1.0</td>\n",
       "      <td>0.0</td>\n",
       "      <td>0.0</td>\n",
       "      <td>0.0</td>\n",
       "      <td>1.0</td>\n",
       "      <td>0.0</td>\n",
       "      <td>0.295455</td>\n",
       "      <td>0.0</td>\n",
       "      <td>1.0</td>\n",
       "      <td>0.0</td>\n",
       "    </tr>\n",
       "    <tr>\n",
       "      <th>1</th>\n",
       "      <td>0.0</td>\n",
       "      <td>0.428571</td>\n",
       "      <td>0.676056</td>\n",
       "      <td>0.80</td>\n",
       "      <td>0.298507</td>\n",
       "      <td>0.0</td>\n",
       "      <td>1.0</td>\n",
       "      <td>0.0</td>\n",
       "      <td>0.0</td>\n",
       "      <td>1.0</td>\n",
       "      <td>0.0</td>\n",
       "      <td>0.409091</td>\n",
       "      <td>1.0</td>\n",
       "      <td>0.0</td>\n",
       "      <td>1.0</td>\n",
       "    </tr>\n",
       "    <tr>\n",
       "      <th>2</th>\n",
       "      <td>1.0</td>\n",
       "      <td>0.183673</td>\n",
       "      <td>0.267606</td>\n",
       "      <td>0.65</td>\n",
       "      <td>0.469320</td>\n",
       "      <td>1.0</td>\n",
       "      <td>0.0</td>\n",
       "      <td>0.0</td>\n",
       "      <td>0.0</td>\n",
       "      <td>0.0</td>\n",
       "      <td>1.0</td>\n",
       "      <td>0.295455</td>\n",
       "      <td>0.0</td>\n",
       "      <td>1.0</td>\n",
       "      <td>0.0</td>\n",
       "    </tr>\n",
       "    <tr>\n",
       "      <th>3</th>\n",
       "      <td>0.0</td>\n",
       "      <td>0.408163</td>\n",
       "      <td>0.338028</td>\n",
       "      <td>0.69</td>\n",
       "      <td>0.354892</td>\n",
       "      <td>0.0</td>\n",
       "      <td>0.0</td>\n",
       "      <td>0.0</td>\n",
       "      <td>1.0</td>\n",
       "      <td>1.0</td>\n",
       "      <td>0.0</td>\n",
       "      <td>0.465909</td>\n",
       "      <td>1.0</td>\n",
       "      <td>0.0</td>\n",
       "      <td>1.0</td>\n",
       "    </tr>\n",
       "    <tr>\n",
       "      <th>4</th>\n",
       "      <td>1.0</td>\n",
       "      <td>0.530612</td>\n",
       "      <td>0.436620</td>\n",
       "      <td>0.75</td>\n",
       "      <td>0.323383</td>\n",
       "      <td>0.0</td>\n",
       "      <td>1.0</td>\n",
       "      <td>0.0</td>\n",
       "      <td>0.0</td>\n",
       "      <td>1.0</td>\n",
       "      <td>0.0</td>\n",
       "      <td>0.295455</td>\n",
       "      <td>0.0</td>\n",
       "      <td>1.0</td>\n",
       "      <td>0.0</td>\n",
       "    </tr>\n",
       "    <tr>\n",
       "      <th>...</th>\n",
       "      <td>...</td>\n",
       "      <td>...</td>\n",
       "      <td>...</td>\n",
       "      <td>...</td>\n",
       "      <td>...</td>\n",
       "      <td>...</td>\n",
       "      <td>...</td>\n",
       "      <td>...</td>\n",
       "      <td>...</td>\n",
       "      <td>...</td>\n",
       "      <td>...</td>\n",
       "      <td>...</td>\n",
       "      <td>...</td>\n",
       "      <td>...</td>\n",
       "      <td>...</td>\n",
       "    </tr>\n",
       "    <tr>\n",
       "      <th>913</th>\n",
       "      <td>1.0</td>\n",
       "      <td>0.346939</td>\n",
       "      <td>0.507042</td>\n",
       "      <td>0.55</td>\n",
       "      <td>0.437811</td>\n",
       "      <td>0.0</td>\n",
       "      <td>0.0</td>\n",
       "      <td>1.0</td>\n",
       "      <td>0.0</td>\n",
       "      <td>1.0</td>\n",
       "      <td>0.0</td>\n",
       "      <td>0.431818</td>\n",
       "      <td>1.0</td>\n",
       "      <td>0.0</td>\n",
       "      <td>1.0</td>\n",
       "    </tr>\n",
       "    <tr>\n",
       "      <th>914</th>\n",
       "      <td>1.0</td>\n",
       "      <td>0.816327</td>\n",
       "      <td>0.570423</td>\n",
       "      <td>0.72</td>\n",
       "      <td>0.320066</td>\n",
       "      <td>0.0</td>\n",
       "      <td>0.0</td>\n",
       "      <td>0.0</td>\n",
       "      <td>0.0</td>\n",
       "      <td>1.0</td>\n",
       "      <td>0.0</td>\n",
       "      <td>0.681818</td>\n",
       "      <td>1.0</td>\n",
       "      <td>0.0</td>\n",
       "      <td>1.0</td>\n",
       "    </tr>\n",
       "    <tr>\n",
       "      <th>915</th>\n",
       "      <td>1.0</td>\n",
       "      <td>0.591837</td>\n",
       "      <td>0.387324</td>\n",
       "      <td>0.65</td>\n",
       "      <td>0.217247</td>\n",
       "      <td>0.0</td>\n",
       "      <td>0.0</td>\n",
       "      <td>0.0</td>\n",
       "      <td>1.0</td>\n",
       "      <td>1.0</td>\n",
       "      <td>0.0</td>\n",
       "      <td>0.431818</td>\n",
       "      <td>1.0</td>\n",
       "      <td>0.0</td>\n",
       "      <td>1.0</td>\n",
       "    </tr>\n",
       "    <tr>\n",
       "      <th>916</th>\n",
       "      <td>0.0</td>\n",
       "      <td>0.591837</td>\n",
       "      <td>0.802817</td>\n",
       "      <td>0.65</td>\n",
       "      <td>0.391376</td>\n",
       "      <td>1.0</td>\n",
       "      <td>0.0</td>\n",
       "      <td>0.0</td>\n",
       "      <td>0.0</td>\n",
       "      <td>0.0</td>\n",
       "      <td>0.0</td>\n",
       "      <td>0.295455</td>\n",
       "      <td>1.0</td>\n",
       "      <td>0.0</td>\n",
       "      <td>1.0</td>\n",
       "    </tr>\n",
       "    <tr>\n",
       "      <th>917</th>\n",
       "      <td>1.0</td>\n",
       "      <td>0.204082</td>\n",
       "      <td>0.795775</td>\n",
       "      <td>0.69</td>\n",
       "      <td>0.290216</td>\n",
       "      <td>0.0</td>\n",
       "      <td>1.0</td>\n",
       "      <td>0.0</td>\n",
       "      <td>0.0</td>\n",
       "      <td>1.0</td>\n",
       "      <td>0.0</td>\n",
       "      <td>0.295455</td>\n",
       "      <td>0.0</td>\n",
       "      <td>1.0</td>\n",
       "      <td>0.0</td>\n",
       "    </tr>\n",
       "  </tbody>\n",
       "</table>\n",
       "<p>918 rows × 15 columns</p>\n",
       "</div>"
      ],
      "text/plain": [
       "     Sex_M       Age     MaxHR  RestingBP  Cholesterol  ChestPainType_ATA  \\\n",
       "0      1.0  0.244898  0.788732       0.70     0.479270                1.0   \n",
       "1      0.0  0.428571  0.676056       0.80     0.298507                0.0   \n",
       "2      1.0  0.183673  0.267606       0.65     0.469320                1.0   \n",
       "3      0.0  0.408163  0.338028       0.69     0.354892                0.0   \n",
       "4      1.0  0.530612  0.436620       0.75     0.323383                0.0   \n",
       "..     ...       ...       ...        ...          ...                ...   \n",
       "913    1.0  0.346939  0.507042       0.55     0.437811                0.0   \n",
       "914    1.0  0.816327  0.570423       0.72     0.320066                0.0   \n",
       "915    1.0  0.591837  0.387324       0.65     0.217247                0.0   \n",
       "916    0.0  0.591837  0.802817       0.65     0.391376                1.0   \n",
       "917    1.0  0.204082  0.795775       0.69     0.290216                0.0   \n",
       "\n",
       "     ChestPainType_NAP  ChestPainType_TA  ExerciseAngina_Y  RestingECG_Normal  \\\n",
       "0                  0.0               0.0               0.0                1.0   \n",
       "1                  1.0               0.0               0.0                1.0   \n",
       "2                  0.0               0.0               0.0                0.0   \n",
       "3                  0.0               0.0               1.0                1.0   \n",
       "4                  1.0               0.0               0.0                1.0   \n",
       "..                 ...               ...               ...                ...   \n",
       "913                0.0               1.0               0.0                1.0   \n",
       "914                0.0               0.0               0.0                1.0   \n",
       "915                0.0               0.0               1.0                1.0   \n",
       "916                0.0               0.0               0.0                0.0   \n",
       "917                1.0               0.0               0.0                1.0   \n",
       "\n",
       "     RestingECG_ST   Oldpeak  ST_Slope_Flat  ST_Slope_Up  HeartDisease  \n",
       "0              0.0  0.295455            0.0          1.0           0.0  \n",
       "1              0.0  0.409091            1.0          0.0           1.0  \n",
       "2              1.0  0.295455            0.0          1.0           0.0  \n",
       "3              0.0  0.465909            1.0          0.0           1.0  \n",
       "4              0.0  0.295455            0.0          1.0           0.0  \n",
       "..             ...       ...            ...          ...           ...  \n",
       "913            0.0  0.431818            1.0          0.0           1.0  \n",
       "914            0.0  0.681818            1.0          0.0           1.0  \n",
       "915            0.0  0.431818            1.0          0.0           1.0  \n",
       "916            0.0  0.295455            1.0          0.0           1.0  \n",
       "917            0.0  0.295455            0.0          1.0           0.0  \n",
       "\n",
       "[918 rows x 15 columns]"
      ]
     },
     "execution_count": 176,
     "metadata": {},
     "output_type": "execute_result"
    }
   ],
   "source": [
    "new_df"
   ]
  },
  {
   "cell_type": "markdown",
   "id": "d16dc0dd",
   "metadata": {},
   "source": [
    "# Train Test Spliting"
   ]
  },
  {
   "cell_type": "code",
   "execution_count": 177,
   "id": "7b6dd4da",
   "metadata": {},
   "outputs": [],
   "source": [
    "from sklearn.model_selection import train_test_split"
   ]
  },
  {
   "cell_type": "code",
   "execution_count": 178,
   "id": "9923d3a5",
   "metadata": {},
   "outputs": [],
   "source": [
    "X_train, X_test, y_train, y_test = train_test_split(X, y, test_size=0.2, random_state=101)"
   ]
  },
  {
   "cell_type": "code",
   "execution_count": 179,
   "id": "cf30ee8a",
   "metadata": {},
   "outputs": [
    {
     "data": {
      "text/plain": [
       "(734, 14)"
      ]
     },
     "execution_count": 179,
     "metadata": {},
     "output_type": "execute_result"
    }
   ],
   "source": [
    "X_train.shape"
   ]
  },
  {
   "cell_type": "code",
   "execution_count": 180,
   "id": "5bf82a5a",
   "metadata": {},
   "outputs": [
    {
     "data": {
      "text/plain": [
       "(184, 14)"
      ]
     },
     "execution_count": 180,
     "metadata": {},
     "output_type": "execute_result"
    }
   ],
   "source": [
    "X_test.shape"
   ]
  },
  {
   "cell_type": "markdown",
   "id": "db3890c6",
   "metadata": {},
   "source": [
    "# Model Building"
   ]
  },
  {
   "cell_type": "markdown",
   "id": "aad554fe",
   "metadata": {},
   "source": [
    "# K Nearest Neighbor"
   ]
  },
  {
   "cell_type": "code",
   "execution_count": 181,
   "id": "16ae75ae",
   "metadata": {},
   "outputs": [],
   "source": [
    "#importing K Nearest Neighbor Classifier\n",
    "from sklearn.neighbors import KNeighborsClassifier\n",
    "from sklearn.metrics import accuracy_score, recall_score, precision_score, f1_score, roc_auc_score, confusion_matrix, roc_curve, auc, classification_report"
   ]
  },
  {
   "cell_type": "code",
   "execution_count": 182,
   "id": "1d66bc77",
   "metadata": {},
   "outputs": [
    {
     "name": "stderr",
     "output_type": "stream",
     "text": [
      "C:\\Users\\user\\anaconda3\\lib\\site-packages\\sklearn\\neighbors\\_classification.py:179: DataConversionWarning: A column-vector y was passed when a 1d array was expected. Please change the shape of y to (n_samples,), for example using ravel().\n",
      "  return self._fit(X, y)\n"
     ]
    },
    {
     "data": {
      "text/plain": [
       "KNeighborsClassifier(n_neighbors=3)"
      ]
     },
     "execution_count": 182,
     "metadata": {},
     "output_type": "execute_result"
    }
   ],
   "source": [
    "#fitting data into K Nearest Neighbour Classifier\n",
    "KNN = KNeighborsClassifier(n_neighbors=3)\n",
    "KNN.fit(X_train, y_train)"
   ]
  },
  {
   "cell_type": "code",
   "execution_count": 183,
   "id": "09857849",
   "metadata": {},
   "outputs": [],
   "source": [
    "#class prediction of y\n",
    "y_pred = KNN.predict(X_test)\n",
    "y_train_pred_KNN = KNN.predict(X_train)\n",
    "y_pred_KNN=KNN.predict(X_test)"
   ]
  },
  {
   "cell_type": "code",
   "execution_count": 184,
   "id": "015d439c",
   "metadata": {},
   "outputs": [
    {
     "name": "stdout",
     "output_type": "stream",
     "text": [
      "The accuracy on train data is  0.82\n",
      "The accuracy on test data is  0.652\n",
      "The precision on test data is  0.695\n",
      "The recall on test data is  0.695\n",
      "The f1 on test data is  0.695\n",
      "The roc_score on test data is  0.645\n"
     ]
    }
   ],
   "source": [
    "#getting all scores for XG Boosting Classifier\n",
    "train_accuracy_KNN= round(accuracy_score(y_train_pred_KNN,y_train), 3)\n",
    "accuracy_KNN = round(accuracy_score(y_pred_KNN,y_test), 3)\n",
    "precision_score_KNN = round(precision_score(y_pred_KNN,y_test), 3)\n",
    "recall_score_KNN = round(recall_score(y_pred_KNN,y_test), 3)\n",
    "f1_score_KNN = round(f1_score(y_pred_KNN,y_test), 3)\n",
    "roc_score_KNN = round(roc_auc_score(y_pred_KNN,y_test), 3)\n",
    "\n",
    "print(\"The accuracy on train data is \", train_accuracy_KNN)\n",
    "print(\"The accuracy on test data is \", accuracy_KNN)\n",
    "print(\"The precision on test data is \", precision_score_KNN)\n",
    "print(\"The recall on test data is \", recall_score_KNN)\n",
    "print(\"The f1 on test data is \", f1_score_KNN)\n",
    "print(\"The roc_score on test data is \", roc_score_KNN)"
   ]
  },
  {
   "cell_type": "code",
   "execution_count": 185,
   "id": "49ac1feb",
   "metadata": {},
   "outputs": [
    {
     "name": "stdout",
     "output_type": "stream",
     "text": [
      "[[47 32]\n",
      " [32 73]]\n"
     ]
    }
   ],
   "source": [
    "# Get the confusion matrix for decision tree classifier\n",
    "from sklearn.metrics import confusion_matrix, classification_report\n",
    "print(confusion_matrix(y_test,y_pred))"
   ]
  },
  {
   "cell_type": "code",
   "execution_count": 186,
   "id": "09d7207e",
   "metadata": {},
   "outputs": [
    {
     "name": "stdout",
     "output_type": "stream",
     "text": [
      "              precision    recall  f1-score   support\n",
      "\n",
      "           0       0.59      0.59      0.59        79\n",
      "           1       0.70      0.70      0.70       105\n",
      "\n",
      "    accuracy                           0.65       184\n",
      "   macro avg       0.65      0.65      0.65       184\n",
      "weighted avg       0.65      0.65      0.65       184\n",
      "\n"
     ]
    }
   ],
   "source": [
    "# Get classification_report for K Nearest Neighbours classifier\n",
    "print(classification_report(y_test,y_pred))"
   ]
  },
  {
   "cell_type": "markdown",
   "id": "f1675445",
   "metadata": {},
   "source": [
    "# Decision Tree"
   ]
  },
  {
   "cell_type": "code",
   "execution_count": 187,
   "id": "0b526b0f",
   "metadata": {},
   "outputs": [],
   "source": [
    "#importing Decision Tree Classifier\n",
    "from sklearn.tree import DecisionTreeClassifier"
   ]
  },
  {
   "cell_type": "code",
   "execution_count": 188,
   "id": "c1e57356",
   "metadata": {},
   "outputs": [
    {
     "data": {
      "text/plain": [
       "DecisionTreeClassifier()"
      ]
     },
     "execution_count": 188,
     "metadata": {},
     "output_type": "execute_result"
    }
   ],
   "source": [
    "#fitting data into Decision Tree Classifier\n",
    "dtc = DecisionTreeClassifier()\n",
    "dtc.fit(X_train, y_train)"
   ]
  },
  {
   "cell_type": "code",
   "execution_count": 189,
   "id": "8ad0fa95",
   "metadata": {},
   "outputs": [],
   "source": [
    "#class prediction of y\n",
    "y_pred_dtc = dtc.predict(X_test)\n",
    "y_train_pred_dtc=dtc.predict(X_train)"
   ]
  },
  {
   "cell_type": "code",
   "execution_count": 190,
   "id": "101b1e15",
   "metadata": {},
   "outputs": [
    {
     "name": "stdout",
     "output_type": "stream",
     "text": [
      "The accuracy on train data is  1.0\n",
      "The accuracy on test data is  0.783\n",
      "The precision on test data is  0.79\n",
      "The recall on test data is  0.822\n",
      "The f1 on test data is  0.806\n",
      "The roc_score on test data is  0.778\n"
     ]
    }
   ],
   "source": [
    "#getting all scores for Decision Tree Classifier\n",
    "train_accuracy_dtc = round(accuracy_score(y_train_pred_dtc,y_train), 3)\n",
    "accuracy_dtc = round(accuracy_score(y_pred_dtc,y_test), 3)\n",
    "precision_score_dtc = round(precision_score(y_pred_dtc,y_test), 3)\n",
    "recall_score_dtc = round(recall_score(y_pred_dtc,y_test), 3)\n",
    "f1_score_dtc = round(f1_score(y_pred_dtc,y_test), 3)\n",
    "roc_score_dtc = round(roc_auc_score(y_pred_dtc,y_test), 3)\n",
    "\n",
    "print(\"The accuracy on train data is \", train_accuracy_dtc)\n",
    "print(\"The accuracy on test data is \", accuracy_dtc)\n",
    "print(\"The precision on test data is \", precision_score_dtc)\n",
    "print(\"The recall on test data is \", recall_score_dtc)\n",
    "print(\"The f1 on test data is \", f1_score_dtc)\n",
    "print(\"The roc_score on test data is \", roc_score_dtc)"
   ]
  },
  {
   "cell_type": "code",
   "execution_count": 191,
   "id": "90162825",
   "metadata": {},
   "outputs": [
    {
     "name": "stdout",
     "output_type": "stream",
     "text": [
      "              precision    recall  f1-score   support\n",
      "\n",
      "           0       0.73      0.77      0.75        79\n",
      "           1       0.82      0.79      0.81       105\n",
      "\n",
      "    accuracy                           0.78       184\n",
      "   macro avg       0.78      0.78      0.78       184\n",
      "weighted avg       0.78      0.78      0.78       184\n",
      "\n"
     ]
    }
   ],
   "source": [
    "# Get classification_report for decision tree classifier\n",
    "print(classification_report(y_test,y_pred_dtc))"
   ]
  },
  {
   "cell_type": "code",
   "execution_count": 192,
   "id": "11d7b9bd",
   "metadata": {},
   "outputs": [
    {
     "name": "stdout",
     "output_type": "stream",
     "text": [
      "[[61 18]\n",
      " [22 83]]\n"
     ]
    }
   ],
   "source": [
    "# Get the confusion matrix for decision tree classifier\n",
    "print(confusion_matrix(y_test,y_pred_dtc))"
   ]
  },
  {
   "cell_type": "markdown",
   "id": "bb8a1fd2",
   "metadata": {},
   "source": [
    "# Random Forest Classification"
   ]
  },
  {
   "cell_type": "code",
   "execution_count": 193,
   "id": "74befaa5",
   "metadata": {},
   "outputs": [],
   "source": [
    "#importing Random Forest Classifier\n",
    "from sklearn.ensemble import RandomForestClassifier"
   ]
  },
  {
   "cell_type": "code",
   "execution_count": 194,
   "id": "7a751a1d",
   "metadata": {},
   "outputs": [
    {
     "name": "stderr",
     "output_type": "stream",
     "text": [
      "C:\\Users\\user\\AppData\\Local\\Temp/ipykernel_11584/2196137390.py:3: DataConversionWarning: A column-vector y was passed when a 1d array was expected. Please change the shape of y to (n_samples,), for example using ravel().\n",
      "  rfc.fit(X_train, y_train)\n"
     ]
    },
    {
     "data": {
      "text/plain": [
       "RandomForestClassifier(n_estimators=50)"
      ]
     },
     "execution_count": 194,
     "metadata": {},
     "output_type": "execute_result"
    }
   ],
   "source": [
    "#fitting data into Random Forest Classifier\n",
    "rfc=RandomForestClassifier(n_estimators=50)\n",
    "rfc.fit(X_train, y_train)"
   ]
  },
  {
   "cell_type": "code",
   "execution_count": 195,
   "id": "387b9803",
   "metadata": {},
   "outputs": [],
   "source": [
    "#class prediction of y\n",
    "y_pred_rfc=rfc.predict(X_test)\n",
    "y_train_pred_rfc=rfc.predict(X_train)"
   ]
  },
  {
   "cell_type": "code",
   "execution_count": 196,
   "id": "8971b41f",
   "metadata": {},
   "outputs": [
    {
     "name": "stdout",
     "output_type": "stream",
     "text": [
      "The accuracy on train data is  0.999\n",
      "The accuracy on test data is  0.848\n",
      "The precision on test data is  0.857\n",
      "The recall on test data is  0.874\n",
      "The f1 on test data is  0.865\n",
      "The roc_score on test data is  0.844\n"
     ]
    }
   ],
   "source": [
    "#getting all scores for Random Forest Classifier\n",
    "train_accuracy_rfc = round(accuracy_score(y_train_pred_rfc,y_train), 3)\n",
    "accuracy_rfc = round(accuracy_score(y_pred_rfc,y_test), 3)\n",
    "precision_score_rfc = round(precision_score(y_pred_rfc,y_test), 3)\n",
    "recall_score_rfc = round(recall_score(y_pred_rfc,y_test), 3)\n",
    "f1_score_rfc = round(f1_score(y_pred_rfc,y_test), 3)\n",
    "roc_score_rfc = round(roc_auc_score(y_pred_rfc,y_test), 3)\n",
    "\n",
    "print(\"The accuracy on train data is \", train_accuracy_rfc)\n",
    "print(\"The accuracy on test data is \", accuracy_rfc)\n",
    "print(\"The precision on test data is \", precision_score_rfc)\n",
    "print(\"The recall on test data is \", recall_score_rfc)\n",
    "print(\"The f1 on test data is \", f1_score_rfc)\n",
    "print(\"The roc_score on test data is \", roc_score_rfc)"
   ]
  },
  {
   "cell_type": "code",
   "execution_count": 197,
   "id": "fb5ce908",
   "metadata": {},
   "outputs": [
    {
     "name": "stdout",
     "output_type": "stream",
     "text": [
      "[[66 13]\n",
      " [15 90]]\n"
     ]
    }
   ],
   "source": [
    "# Get the confusion matrix for Random Forest Classifier\n",
    "print(confusion_matrix(y_test,y_pred_rfc))"
   ]
  },
  {
   "cell_type": "code",
   "execution_count": 198,
   "id": "39cec505",
   "metadata": {},
   "outputs": [
    {
     "name": "stdout",
     "output_type": "stream",
     "text": [
      "              precision    recall  f1-score   support\n",
      "\n",
      "           0       0.81      0.84      0.82        79\n",
      "           1       0.87      0.86      0.87       105\n",
      "\n",
      "    accuracy                           0.85       184\n",
      "   macro avg       0.84      0.85      0.85       184\n",
      "weighted avg       0.85      0.85      0.85       184\n",
      "\n"
     ]
    }
   ],
   "source": [
    "# Get the classification_report for Random Forest Classifier\n",
    "print(classification_report(y_test,y_pred_rfc))"
   ]
  },
  {
   "cell_type": "markdown",
   "id": "e8180472",
   "metadata": {},
   "source": [
    "# Logistic Regression"
   ]
  },
  {
   "cell_type": "code",
   "execution_count": 199,
   "id": "37c10f18",
   "metadata": {},
   "outputs": [],
   "source": [
    "#importing logistic regression and evaluation metrics\n",
    "from sklearn.linear_model import LogisticRegression"
   ]
  },
  {
   "cell_type": "code",
   "execution_count": 200,
   "id": "42e367fc",
   "metadata": {},
   "outputs": [
    {
     "name": "stderr",
     "output_type": "stream",
     "text": [
      "C:\\Users\\user\\anaconda3\\lib\\site-packages\\sklearn\\utils\\validation.py:63: DataConversionWarning: A column-vector y was passed when a 1d array was expected. Please change the shape of y to (n_samples, ), for example using ravel().\n",
      "  return f(*args, **kwargs)\n"
     ]
    },
    {
     "data": {
      "text/plain": [
       "LogisticRegression(max_iter=10000)"
      ]
     },
     "execution_count": 200,
     "metadata": {},
     "output_type": "execute_result"
    }
   ],
   "source": [
    "#fitting data into Logistic Regression\n",
    "logi = LogisticRegression(fit_intercept=True, max_iter=10000)\n",
    "logi.fit(X_train, y_train)"
   ]
  },
  {
   "cell_type": "code",
   "execution_count": 201,
   "id": "46bd0aa9",
   "metadata": {},
   "outputs": [],
   "source": [
    "#class prediction of y\n",
    "y_pred_logi = logi.predict(X_test)\n",
    "y_train_pred_logi=logi.predict(X_train)"
   ]
  },
  {
   "cell_type": "code",
   "execution_count": 202,
   "id": "c5d52778",
   "metadata": {},
   "outputs": [
    {
     "name": "stdout",
     "output_type": "stream",
     "text": [
      "The accuracy on train data is  0.871\n",
      "The accuracy on test data is  0.826\n",
      "The precision on test data is  0.848\n",
      "The recall on test data is  0.848\n",
      "The f1 on test data is  0.848\n",
      "The roc_score on test data is  0.823\n"
     ]
    }
   ],
   "source": [
    "#getting all scores for Logistic Regression\n",
    "train_accuracy_logi = round(accuracy_score(y_train_pred_logi,y_train), 3)\n",
    "accuracy_logi = round(accuracy_score(y_pred_logi,y_test), 3)\n",
    "precision_score_logi = round(precision_score(y_pred_logi,y_test), 3)\n",
    "recall_score_logi = round(recall_score(y_pred_logi,y_test), 3)\n",
    "f1_score_logi = round(f1_score(y_pred_logi,y_test), 3)\n",
    "roc_score_logi = round(roc_auc_score(y_pred_logi,y_test), 3)\n",
    "\n",
    "print(\"The accuracy on train data is \", train_accuracy_logi)\n",
    "print(\"The accuracy on test data is \", accuracy_logi)\n",
    "print(\"The precision on test data is \", precision_score_logi)\n",
    "print(\"The recall on test data is \", recall_score_logi)\n",
    "print(\"The f1 on test data is \", f1_score_logi)\n",
    "print(\"The roc_score on test data is \", roc_score_logi)"
   ]
  },
  {
   "cell_type": "code",
   "execution_count": 203,
   "id": "5b026170",
   "metadata": {},
   "outputs": [
    {
     "name": "stdout",
     "output_type": "stream",
     "text": [
      "[[63 16]\n",
      " [16 89]]\n"
     ]
    }
   ],
   "source": [
    "# Get the confusion matrix\n",
    "print(confusion_matrix(y_test, y_pred_logi))"
   ]
  },
  {
   "cell_type": "code",
   "execution_count": 204,
   "id": "00e9a32e",
   "metadata": {},
   "outputs": [
    {
     "name": "stdout",
     "output_type": "stream",
     "text": [
      "              precision    recall  f1-score   support\n",
      "\n",
      "           0       0.80      0.80      0.80        79\n",
      "           1       0.85      0.85      0.85       105\n",
      "\n",
      "    accuracy                           0.83       184\n",
      "   macro avg       0.82      0.82      0.82       184\n",
      "weighted avg       0.83      0.83      0.83       184\n",
      "\n"
     ]
    }
   ],
   "source": [
    "# Get the classification_report\n",
    "print(classification_report(y_test, y_pred_logi))"
   ]
  },
  {
   "cell_type": "code",
   "execution_count": 205,
   "id": "aff3c320",
   "metadata": {},
   "outputs": [
    {
     "data": {
      "text/plain": [
       "Text(0, 0.5, 'HeartDisease')"
      ]
     },
     "execution_count": 205,
     "metadata": {},
     "output_type": "execute_result"
    },
    {
     "data": {
      "image/png": "[encoded data removed]",
      "text/plain": [
       "<Figure size 432x288 with 1 Axes>"
      ]
     },
     "metadata": {
      "needs_background": "light"
     },
     "output_type": "display_data"
    }
   ],
   "source": [
    "plt.scatter(df.MaxHR,df.HeartDisease, color = 'r', marker = 'o' )\n",
    "plt.xlabel('MaxHR')\n",
    "plt.ylabel('HeartDisease')"
   ]
  },
  {
   "cell_type": "markdown",
   "id": "3d6f8193",
   "metadata": {},
   "source": [
    "# Support Vector Machine"
   ]
  },
  {
   "cell_type": "code",
   "execution_count": 206,
   "id": "5bc762c9",
   "metadata": {},
   "outputs": [],
   "source": [
    "#importing Support Vector Classifier\n",
    "from sklearn.svm import SVC"
   ]
  },
  {
   "cell_type": "code",
   "execution_count": 207,
   "id": "a0f3e712",
   "metadata": {},
   "outputs": [
    {
     "name": "stderr",
     "output_type": "stream",
     "text": [
      "C:\\Users\\user\\anaconda3\\lib\\site-packages\\sklearn\\utils\\validation.py:63: DataConversionWarning: A column-vector y was passed when a 1d array was expected. Please change the shape of y to (n_samples, ), for example using ravel().\n",
      "  return f(*args, **kwargs)\n"
     ]
    },
    {
     "data": {
      "text/plain": [
       "SVC(probability=True)"
      ]
     },
     "execution_count": 207,
     "metadata": {},
     "output_type": "execute_result"
    }
   ],
   "source": [
    "#fitting data into Support Vector Classifier\n",
    "clf=SVC(probability=True)\n",
    "clf.fit(X_train,y_train)"
   ]
  },
  {
   "cell_type": "code",
   "execution_count": 208,
   "id": "115cca7f",
   "metadata": {},
   "outputs": [],
   "source": [
    "#class prediction of y\n",
    "y_pred_svm=clf.predict(X_test)\n",
    "y_train_pred_svm=clf.predict(X_train)"
   ]
  },
  {
   "cell_type": "code",
   "execution_count": 209,
   "id": "680db3e3",
   "metadata": {},
   "outputs": [
    {
     "name": "stdout",
     "output_type": "stream",
     "text": [
      "The accuracy on train data is  0.737\n",
      "The accuracy on test data is  0.658\n",
      "The precision on test data is  0.676\n",
      "The recall on test data is  0.71\n",
      "The f1 on test data is  0.693\n",
      "The roc_score on test data is  0.653\n"
     ]
    }
   ],
   "source": [
    "#getting all scores for Support Vector Classifier\n",
    "train_accuracy_svm = round(accuracy_score(y_train_pred_svm,y_train), 3)\n",
    "accuracy_svm = round(accuracy_score(y_pred_svm,y_test), 3)\n",
    "precision_score_svm = round(precision_score(y_pred_svm,y_test), 3)\n",
    "recall_score_svm = round(recall_score(y_pred_svm,y_test), 3)\n",
    "f1_score_svm = round(f1_score(y_pred_svm,y_test), 3)\n",
    "roc_score_svm = round(roc_auc_score(y_pred_svm,y_test), 3)\n",
    "\n",
    "print(\"The accuracy on train data is \", train_accuracy_svm)\n",
    "print(\"The accuracy on test data is \", accuracy_svm)\n",
    "print(\"The precision on test data is \", precision_score_svm)\n",
    "print(\"The recall on test data is \", recall_score_svm)\n",
    "print(\"The f1 on test data is \", f1_score_svm)\n",
    "print(\"The roc_score on test data is \", roc_score_svm)"
   ]
  },
  {
   "cell_type": "code",
   "execution_count": 210,
   "id": "c239304b",
   "metadata": {},
   "outputs": [
    {
     "name": "stdout",
     "output_type": "stream",
     "text": [
      "              precision    recall  f1-score   support\n",
      "\n",
      "           0       0.60      0.63      0.61        79\n",
      "           1       0.71      0.68      0.69       105\n",
      "\n",
      "    accuracy                           0.66       184\n",
      "   macro avg       0.65      0.65      0.65       184\n",
      "weighted avg       0.66      0.66      0.66       184\n",
      "\n"
     ]
    }
   ],
   "source": [
    "print(classification_report(y_test,y_pred_svm))"
   ]
  },
  {
   "cell_type": "markdown",
   "id": "3212c61a",
   "metadata": {},
   "source": [
    "# Gradient Boosting"
   ]
  },
  {
   "cell_type": "code",
   "execution_count": 211,
   "id": "e5d28a0f",
   "metadata": {},
   "outputs": [],
   "source": [
    "#importing Gradient Boosting Classifier\n",
    "from sklearn.ensemble import GradientBoostingClassifier"
   ]
  },
  {
   "cell_type": "code",
   "execution_count": 212,
   "id": "c2779f15",
   "metadata": {},
   "outputs": [
    {
     "name": "stderr",
     "output_type": "stream",
     "text": [
      "C:\\Users\\user\\anaconda3\\lib\\site-packages\\sklearn\\utils\\validation.py:63: DataConversionWarning: A column-vector y was passed when a 1d array was expected. Please change the shape of y to (n_samples, ), for example using ravel().\n",
      "  return f(*args, **kwargs)\n"
     ]
    },
    {
     "data": {
      "text/plain": [
       "GradientBoostingClassifier(random_state=42)"
      ]
     },
     "execution_count": 212,
     "metadata": {},
     "output_type": "execute_result"
    }
   ],
   "source": [
    "#fitting data into Gradient Boosting Classifier\n",
    "gbc = GradientBoostingClassifier(random_state=42)\n",
    "gbc.fit(X_train, y_train)"
   ]
  },
  {
   "cell_type": "code",
   "execution_count": 213,
   "id": "5fafeb56",
   "metadata": {},
   "outputs": [],
   "source": [
    "#class prediction of y\n",
    "y_pred_gbc=gbc.predict(X_test)\n",
    "y_train_pred_gbc=gbc.predict(X_train)"
   ]
  },
  {
   "cell_type": "code",
   "execution_count": 214,
   "id": "e4948750",
   "metadata": {},
   "outputs": [
    {
     "name": "stdout",
     "output_type": "stream",
     "text": [
      "The accuracy on train data is  0.935\n",
      "The accuracy on test data is  0.87\n",
      "The precision on test data is  0.895\n",
      "The recall on test data is  0.879\n",
      "The f1 on test data is  0.887\n",
      "The roc_score on test data is  0.868\n"
     ]
    }
   ],
   "source": [
    "#getting all scores for Gradient Boosting Classifier\n",
    "train_accuracy_gbc = round(accuracy_score(y_train_pred_gbc,y_train), 3)\n",
    "accuracy_gbc = round(accuracy_score(y_pred_gbc,y_test), 3)\n",
    "precision_score_gbc = round(precision_score(y_pred_gbc,y_test), 3)\n",
    "recall_score_gbc = round(recall_score(y_pred_gbc,y_test), 3)\n",
    "f1_score_gbc = round(f1_score(y_pred_gbc,y_test), 3)\n",
    "roc_score_gbc = round(roc_auc_score(y_pred_gbc,y_test), 3)\n",
    "\n",
    "print(\"The accuracy on train data is \", train_accuracy_gbc)\n",
    "print(\"The accuracy on test data is \", accuracy_gbc)\n",
    "print(\"The precision on test data is \", precision_score_gbc)\n",
    "print(\"The recall on test data is \", recall_score_gbc)\n",
    "print(\"The f1 on test data is \", f1_score_gbc)\n",
    "print(\"The roc_score on test data is \", roc_score_gbc)"
   ]
  },
  {
   "cell_type": "code",
   "execution_count": 215,
   "id": "ea960dd6",
   "metadata": {},
   "outputs": [
    {
     "name": "stdout",
     "output_type": "stream",
     "text": [
      "[[66 13]\n",
      " [11 94]]\n"
     ]
    }
   ],
   "source": [
    "# Get the confusion matrix for Gradient Boosting Classifier\n",
    "print(confusion_matrix(y_test, y_pred_gbc))"
   ]
  },
  {
   "cell_type": "code",
   "execution_count": 216,
   "id": "8f6673c3",
   "metadata": {},
   "outputs": [
    {
     "name": "stdout",
     "output_type": "stream",
     "text": [
      "              precision    recall  f1-score   support\n",
      "\n",
      "           0       0.86      0.84      0.85        79\n",
      "           1       0.88      0.90      0.89       105\n",
      "\n",
      "    accuracy                           0.87       184\n",
      "   macro avg       0.87      0.87      0.87       184\n",
      "weighted avg       0.87      0.87      0.87       184\n",
      "\n"
     ]
    }
   ],
   "source": [
    "# Get the classification_report for Gradient Boosting Classifier\n",
    "print(classification_report(y_test,  y_pred_gbc))"
   ]
  },
  {
   "cell_type": "markdown",
   "id": "4684f67a",
   "metadata": {},
   "source": [
    "# XG Boosting"
   ]
  },
  {
   "cell_type": "code",
   "execution_count": 217,
   "id": "1718ab02",
   "metadata": {},
   "outputs": [],
   "source": [
    "#importing XG Boosting Classifier\n",
    "from xgboost import XGBClassifier"
   ]
  },
  {
   "cell_type": "code",
   "execution_count": 218,
   "id": "6e198d16",
   "metadata": {},
   "outputs": [
    {
     "data": {
      "text/plain": [
       "XGBClassifier(base_score=0.5, booster='gbtree', callbacks=None,\n",
       "              colsample_bylevel=1, colsample_bynode=1, colsample_bytree=1,\n",
       "              early_stopping_rounds=None, enable_categorical=False,\n",
       "              eval_metric=None, feature_types=None, gamma=0, gpu_id=-1,\n",
       "              grow_policy='depthwise', importance_type=None,\n",
       "              interaction_constraints='', learning_rate=0.300000012,\n",
       "              max_bin=256, max_cat_threshold=64, max_cat_to_onehot=4,\n",
       "              max_delta_step=0, max_depth=6, max_leaves=0, min_child_weight=1,\n",
       "              missing=nan, monotone_constraints='()', n_estimators=100,\n",
       "              n_jobs=0, num_parallel_tree=1, predictor='auto', random_state=0, ...)"
      ]
     },
     "execution_count": 218,
     "metadata": {},
     "output_type": "execute_result"
    }
   ],
   "source": [
    "#fitting data into XG Boosting Classifier\n",
    "xgb = XGBClassifier()\n",
    "xgb.fit(X_train,y_train)"
   ]
  },
  {
   "cell_type": "code",
   "execution_count": 219,
   "id": "9bc75294",
   "metadata": {},
   "outputs": [],
   "source": [
    "#class prediction of y\n",
    "y_pred_xgb=xgb.predict(X_test)\n",
    "y_train_pred_xgb=xgb.predict(X_train)"
   ]
  },
  {
   "cell_type": "code",
   "execution_count": 220,
   "id": "e8a796d8",
   "metadata": {},
   "outputs": [
    {
     "name": "stdout",
     "output_type": "stream",
     "text": [
      "The accuracy on train data is  1.0\n",
      "The accuracy on test data is  0.837\n",
      "The precision on test data is  0.838\n",
      "The recall on test data is  0.871\n",
      "The f1 on test data is  0.854\n",
      "The roc_score on test data is  0.833\n"
     ]
    }
   ],
   "source": [
    "#getting all scores for XG Boosting Classifier\n",
    "train_accuracy_xgb = round(accuracy_score(y_train_pred_xgb,y_train), 3)\n",
    "accuracy_xgb = round(accuracy_score(y_pred_xgb,y_test), 3)\n",
    "precision_score_xgb = round(precision_score(y_pred_xgb,y_test), 3)\n",
    "recall_score_xgb = round(recall_score(y_pred_xgb,y_test), 3)\n",
    "f1_score_xgb = round(f1_score(y_pred_xgb,y_test), 3)\n",
    "roc_score_xgb = round(roc_auc_score(y_pred_xgb,y_test), 3)\n",
    "\n",
    "print(\"The accuracy on train data is \", train_accuracy_xgb)\n",
    "print(\"The accuracy on test data is \", accuracy_xgb)\n",
    "print(\"The precision on test data is \", precision_score_xgb)\n",
    "print(\"The recall on test data is \", recall_score_xgb)\n",
    "print(\"The f1 on test data is \", f1_score_xgb)\n",
    "print(\"The roc_score on test data is \", roc_score_xgb)"
   ]
  },
  {
   "cell_type": "code",
   "execution_count": 221,
   "id": "920b76e7",
   "metadata": {},
   "outputs": [
    {
     "name": "stdout",
     "output_type": "stream",
     "text": [
      "[[66 13]\n",
      " [17 88]]\n"
     ]
    }
   ],
   "source": [
    "# Get the confusion matrix for XG Boosting Classifier\n",
    "print(confusion_matrix(y_test, y_pred_xgb ))"
   ]
  },
  {
   "cell_type": "code",
   "execution_count": 222,
   "id": "193748da",
   "metadata": {},
   "outputs": [
    {
     "name": "stdout",
     "output_type": "stream",
     "text": [
      "              precision    recall  f1-score   support\n",
      "\n",
      "           0       0.80      0.84      0.81        79\n",
      "           1       0.87      0.84      0.85       105\n",
      "\n",
      "    accuracy                           0.84       184\n",
      "   macro avg       0.83      0.84      0.83       184\n",
      "weighted avg       0.84      0.84      0.84       184\n",
      "\n"
     ]
    }
   ],
   "source": [
    "# Get the classification_report for XG Boosting Classifier\n",
    "print(classification_report(y_test,  y_pred_xgb))"
   ]
  },
  {
   "cell_type": "markdown",
   "id": "8328001f",
   "metadata": {},
   "source": [
    "# Model Comparision"
   ]
  },
  {
   "cell_type": "code",
   "execution_count": 223,
   "id": "be62ed9c",
   "metadata": {},
   "outputs": [],
   "source": [
    "all_classifiers = ['K Nearest Neighbor', 'Logistic Regression', 'Decision Tree', 'Random Forest', 'SVM', 'Gradient Boosting', 'XG Boosting']\n",
    "all_train_accuracy = [train_accuracy_KNN, train_accuracy_logi, train_accuracy_dtc, train_accuracy_rfc, train_accuracy_svm, train_accuracy_gbc, train_accuracy_xgb]\n",
    "all_test_accuracy = [accuracy_KNN, accuracy_logi, accuracy_dtc, accuracy_rfc, accuracy_svm, accuracy_gbc, accuracy_xgb]\n",
    "all_precision_score = [precision_score_KNN, precision_score_logi, precision_score_dtc, precision_score_rfc, precision_score_svm, precision_score_gbc, precision_score_xgb]\n",
    "all_recall_score = [recall_score_KNN, recall_score_logi, recall_score_dtc, recall_score_rfc, recall_score_svm, recall_score_gbc, recall_score_xgb]\n",
    "all_f1_score = [f1_score_KNN, f1_score_logi, f1_score_dtc, f1_score_rfc, f1_score_svm, f1_score_gbc, f1_score_xgb]\n",
    "all_auc_score = [roc_score_KNN, roc_score_logi, roc_score_dtc, roc_score_rfc, roc_score_svm, roc_score_gbc, roc_score_xgb]"
   ]
  },
  {
   "cell_type": "code",
   "execution_count": 224,
   "id": "d2054e18",
   "metadata": {},
   "outputs": [],
   "source": [
    "compare_df = pd.DataFrame({'Classifier':all_classifiers, 'Train Accuracy': all_train_accuracy, 'Test Accuracy': all_test_accuracy, 'Precision': all_precision_score, 'Recall': all_recall_score, 'F1 score': all_f1_score, 'Accuracy': all_auc_score})"
   ]
  },
  {
   "cell_type": "code",
   "execution_count": 225,
   "id": "83f0ae3d",
   "metadata": {},
   "outputs": [
    {
     "data": {
      "text/html": [
       "<div>\n",
       "<style scoped>\n",
       "    .dataframe tbody tr th:only-of-type {\n",
       "        vertical-align: middle;\n",
       "    }\n",
       "\n",
       "    .dataframe tbody tr th {\n",
       "        vertical-align: top;\n",
       "    }\n",
       "\n",
       "    .dataframe thead th {\n",
       "        text-align: right;\n",
       "    }\n",
       "</style>\n",
       "<table border=\"1\" class=\"dataframe\">\n",
       "  <thead>\n",
       "    <tr style=\"text-align: right;\">\n",
       "      <th></th>\n",
       "      <th>Classifier</th>\n",
       "      <th>Train Accuracy</th>\n",
       "      <th>Test Accuracy</th>\n",
       "      <th>Precision</th>\n",
       "      <th>Recall</th>\n",
       "      <th>F1 score</th>\n",
       "      <th>Accuracy</th>\n",
       "    </tr>\n",
       "  </thead>\n",
       "  <tbody>\n",
       "    <tr>\n",
       "      <th>0</th>\n",
       "      <td>K Nearest Neighbor</td>\n",
       "      <td>0.820</td>\n",
       "      <td>0.652</td>\n",
       "      <td>0.695</td>\n",
       "      <td>0.695</td>\n",
       "      <td>0.695</td>\n",
       "      <td>0.645</td>\n",
       "    </tr>\n",
       "    <tr>\n",
       "      <th>1</th>\n",
       "      <td>Logistic Regression</td>\n",
       "      <td>0.871</td>\n",
       "      <td>0.826</td>\n",
       "      <td>0.848</td>\n",
       "      <td>0.848</td>\n",
       "      <td>0.848</td>\n",
       "      <td>0.823</td>\n",
       "    </tr>\n",
       "    <tr>\n",
       "      <th>2</th>\n",
       "      <td>Decision Tree</td>\n",
       "      <td>1.000</td>\n",
       "      <td>0.783</td>\n",
       "      <td>0.790</td>\n",
       "      <td>0.822</td>\n",
       "      <td>0.806</td>\n",
       "      <td>0.778</td>\n",
       "    </tr>\n",
       "    <tr>\n",
       "      <th>3</th>\n",
       "      <td>Random Forest</td>\n",
       "      <td>0.999</td>\n",
       "      <td>0.848</td>\n",
       "      <td>0.857</td>\n",
       "      <td>0.874</td>\n",
       "      <td>0.865</td>\n",
       "      <td>0.844</td>\n",
       "    </tr>\n",
       "    <tr>\n",
       "      <th>4</th>\n",
       "      <td>SVM</td>\n",
       "      <td>0.737</td>\n",
       "      <td>0.658</td>\n",
       "      <td>0.676</td>\n",
       "      <td>0.710</td>\n",
       "      <td>0.693</td>\n",
       "      <td>0.653</td>\n",
       "    </tr>\n",
       "    <tr>\n",
       "      <th>5</th>\n",
       "      <td>Gradient Boosting</td>\n",
       "      <td>0.935</td>\n",
       "      <td>0.870</td>\n",
       "      <td>0.895</td>\n",
       "      <td>0.879</td>\n",
       "      <td>0.887</td>\n",
       "      <td>0.868</td>\n",
       "    </tr>\n",
       "    <tr>\n",
       "      <th>6</th>\n",
       "      <td>XG Boosting</td>\n",
       "      <td>1.000</td>\n",
       "      <td>0.837</td>\n",
       "      <td>0.838</td>\n",
       "      <td>0.871</td>\n",
       "      <td>0.854</td>\n",
       "      <td>0.833</td>\n",
       "    </tr>\n",
       "  </tbody>\n",
       "</table>\n",
       "</div>"
      ],
      "text/plain": [
       "            Classifier  Train Accuracy  Test Accuracy  Precision  Recall  \\\n",
       "0   K Nearest Neighbor           0.820          0.652      0.695   0.695   \n",
       "1  Logistic Regression           0.871          0.826      0.848   0.848   \n",
       "2        Decision Tree           1.000          0.783      0.790   0.822   \n",
       "3        Random Forest           0.999          0.848      0.857   0.874   \n",
       "4                  SVM           0.737          0.658      0.676   0.710   \n",
       "5    Gradient Boosting           0.935          0.870      0.895   0.879   \n",
       "6          XG Boosting           1.000          0.837      0.838   0.871   \n",
       "\n",
       "   F1 score  Accuracy  \n",
       "0     0.695     0.645  \n",
       "1     0.848     0.823  \n",
       "2     0.806     0.778  \n",
       "3     0.865     0.844  \n",
       "4     0.693     0.653  \n",
       "5     0.887     0.868  \n",
       "6     0.854     0.833  "
      ]
     },
     "execution_count": 225,
     "metadata": {},
     "output_type": "execute_result"
    }
   ],
   "source": [
    "compare_df"
   ]
  },
  {
   "cell_type": "code",
   "execution_count": 226,
   "id": "66376581",
   "metadata": {},
   "outputs": [
    {
     "data": {
      "text/html": [
       "<div>\n",
       "<style scoped>\n",
       "    .dataframe tbody tr th:only-of-type {\n",
       "        vertical-align: middle;\n",
       "    }\n",
       "\n",
       "    .dataframe tbody tr th {\n",
       "        vertical-align: top;\n",
       "    }\n",
       "\n",
       "    .dataframe thead th {\n",
       "        text-align: right;\n",
       "    }\n",
       "</style>\n",
       "<table border=\"1\" class=\"dataframe\">\n",
       "  <thead>\n",
       "    <tr style=\"text-align: right;\">\n",
       "      <th></th>\n",
       "      <th>Classifier</th>\n",
       "      <th>Train Accuracy</th>\n",
       "      <th>Test Accuracy</th>\n",
       "      <th>Precision</th>\n",
       "      <th>Recall</th>\n",
       "      <th>F1 score</th>\n",
       "      <th>Accuracy</th>\n",
       "    </tr>\n",
       "  </thead>\n",
       "  <tbody>\n",
       "    <tr>\n",
       "      <th>5</th>\n",
       "      <td>Gradient Boosting</td>\n",
       "      <td>0.935</td>\n",
       "      <td>0.870</td>\n",
       "      <td>0.895</td>\n",
       "      <td>0.879</td>\n",
       "      <td>0.887</td>\n",
       "      <td>0.868</td>\n",
       "    </tr>\n",
       "    <tr>\n",
       "      <th>3</th>\n",
       "      <td>Random Forest</td>\n",
       "      <td>0.999</td>\n",
       "      <td>0.848</td>\n",
       "      <td>0.857</td>\n",
       "      <td>0.874</td>\n",
       "      <td>0.865</td>\n",
       "      <td>0.844</td>\n",
       "    </tr>\n",
       "    <tr>\n",
       "      <th>6</th>\n",
       "      <td>XG Boosting</td>\n",
       "      <td>1.000</td>\n",
       "      <td>0.837</td>\n",
       "      <td>0.838</td>\n",
       "      <td>0.871</td>\n",
       "      <td>0.854</td>\n",
       "      <td>0.833</td>\n",
       "    </tr>\n",
       "    <tr>\n",
       "      <th>1</th>\n",
       "      <td>Logistic Regression</td>\n",
       "      <td>0.871</td>\n",
       "      <td>0.826</td>\n",
       "      <td>0.848</td>\n",
       "      <td>0.848</td>\n",
       "      <td>0.848</td>\n",
       "      <td>0.823</td>\n",
       "    </tr>\n",
       "    <tr>\n",
       "      <th>2</th>\n",
       "      <td>Decision Tree</td>\n",
       "      <td>1.000</td>\n",
       "      <td>0.783</td>\n",
       "      <td>0.790</td>\n",
       "      <td>0.822</td>\n",
       "      <td>0.806</td>\n",
       "      <td>0.778</td>\n",
       "    </tr>\n",
       "    <tr>\n",
       "      <th>4</th>\n",
       "      <td>SVM</td>\n",
       "      <td>0.737</td>\n",
       "      <td>0.658</td>\n",
       "      <td>0.676</td>\n",
       "      <td>0.710</td>\n",
       "      <td>0.693</td>\n",
       "      <td>0.653</td>\n",
       "    </tr>\n",
       "    <tr>\n",
       "      <th>0</th>\n",
       "      <td>K Nearest Neighbor</td>\n",
       "      <td>0.820</td>\n",
       "      <td>0.652</td>\n",
       "      <td>0.695</td>\n",
       "      <td>0.695</td>\n",
       "      <td>0.695</td>\n",
       "      <td>0.645</td>\n",
       "    </tr>\n",
       "  </tbody>\n",
       "</table>\n",
       "</div>"
      ],
      "text/plain": [
       "            Classifier  Train Accuracy  Test Accuracy  Precision  Recall  \\\n",
       "5    Gradient Boosting           0.935          0.870      0.895   0.879   \n",
       "3        Random Forest           0.999          0.848      0.857   0.874   \n",
       "6          XG Boosting           1.000          0.837      0.838   0.871   \n",
       "1  Logistic Regression           0.871          0.826      0.848   0.848   \n",
       "2        Decision Tree           1.000          0.783      0.790   0.822   \n",
       "4                  SVM           0.737          0.658      0.676   0.710   \n",
       "0   K Nearest Neighbor           0.820          0.652      0.695   0.695   \n",
       "\n",
       "   F1 score  Accuracy  \n",
       "5     0.887     0.868  \n",
       "3     0.865     0.844  \n",
       "6     0.854     0.833  \n",
       "1     0.848     0.823  \n",
       "2     0.806     0.778  \n",
       "4     0.693     0.653  \n",
       "0     0.695     0.645  "
      ]
     },
     "execution_count": 226,
     "metadata": {},
     "output_type": "execute_result"
    }
   ],
   "source": [
    "compare_df.sort_values(by=['Test Accuracy'], ascending=False)"
   ]
  },
  {
   "cell_type": "markdown",
   "id": "d99bbf81",
   "metadata": {},
   "source": [
    "*Here we can see that Gradient Boosting classifier shows highest test accuracy and F1 score.*"
   ]
  },
  {
   "cell_type": "markdown",
   "id": "2f82c670",
   "metadata": {},
   "source": [
    "# Combined ROC curve for all the models"
   ]
  },
  {
   "cell_type": "code",
   "execution_count": 227,
   "id": "622be520",
   "metadata": {},
   "outputs": [],
   "source": [
    "#importing roc curve\n",
    "from sklearn.metrics import roc_curve"
   ]
  },
  {
   "cell_type": "code",
   "execution_count": 228,
   "id": "2b1c4a83",
   "metadata": {},
   "outputs": [],
   "source": [
    "#probabilty prediction of y for all model\n",
    "y_pred_proba_KNN = KNN.predict_proba(X_test)[:,1]\n",
    "y_pred_proba_logi = logi.predict_proba(X_test)[:,1]\n",
    "y_pred_proba_dtc = dtc.predict_proba(X_test)[:,1]\n",
    "y_pred_proba_rfc = rfc.predict_proba(X_test)[:,1]\n",
    "y_pred_proba_clf = clf.predict_proba(X_test)[:,1]\n",
    "y_pred_proba_gbc = gbc.predict_proba(X_test)[:,1]\n",
    "y_pred_proba_xgb = xgb.predict_proba(X_test)[:,1]"
   ]
  },
  {
   "cell_type": "code",
   "execution_count": 229,
   "id": "848883b2",
   "metadata": {},
   "outputs": [
    {
     "data": {
      "text/plain": [
       "<matplotlib.legend.Legend at 0x24393ef3f40>"
      ]
     },
     "execution_count": 229,
     "metadata": {},
     "output_type": "execute_result"
    },
    {
     "data": {
      "image/png": "[encoded data removed]",
      "text/plain": [
       "<Figure size 864x720 with 1 Axes>"
      ]
     },
     "metadata": {
      "needs_background": "light"
     },
     "output_type": "display_data"
    }
   ],
   "source": [
    "fig = plt.figure(figsize=(12,10)) \n",
    "\n",
    "fpr_KNN, trp_KNN, _KNN = roc_curve(y_test, y_pred_proba_KNN)\n",
    "fpr_logi, tpr_logi, _logi = roc_curve(y_test,  y_pred_proba_logi)\n",
    "fpr_dtc, tpr_dtc, _dtc = roc_curve(y_test,  y_pred_proba_dtc)\n",
    "fpr_rfc, tpr_rfc, _rfc = roc_curve(y_test,  y_pred_proba_rfc)\n",
    "fpr_svm, tpr_svm, _svm = roc_curve(y_test,  y_pred_proba_clf)\n",
    "fpr_gbc, tpr_gbc, _gbc = roc_curve(y_test,  y_pred_proba_gbc)\n",
    "fpr_xgb, tpr_xgb, _xgb = roc_curve(y_test,  y_pred_proba_xgb)\n",
    "\n",
    "plt.plot(fpr_KNN, trp_KNN)\n",
    "plt.plot(fpr_logi, tpr_logi)\n",
    "plt.plot(fpr_dtc, tpr_dtc)\n",
    "plt.plot(fpr_rfc, tpr_rfc)\n",
    "plt.plot(fpr_svm, tpr_svm)\n",
    "plt.plot(fpr_gbc, tpr_gbc)\n",
    "plt.plot(fpr_xgb, tpr_xgb)\n",
    "\n",
    "plt.plot([0,1], [0,1], color='black', linestyle='--')\n",
    "\n",
    "plt.xlabel(\"False Positive Rate\", fontsize=12)\n",
    "plt.ylabel(\"True Positive Rate\", fontsize=12)\n",
    "plt.title('Combined ROC Curve', fontsize=15)\n",
    "\n",
    "plt.legend([\"K Nearest Neighbor\", \"Logistic\", \"Decision Tree\", \"Random Forest\", \"SVM\", \"GB Boost\" \"XG Boost\"], prop={'size':13}, loc='lower right' )"
   ]
  },
  {
   "cell_type": "markdown",
   "id": "5b657f44",
   "metadata": {},
   "source": [
    "# Cross Validation & Hyperparameter Tuning"
   ]
  },
  {
   "cell_type": "code",
   "execution_count": 230,
   "id": "983cdda0",
   "metadata": {},
   "outputs": [],
   "source": [
    "from sklearn.model_selection import GridSearchCV\n",
    "from sklearn.model_selection import RandomizedSearchCV"
   ]
  },
  {
   "cell_type": "markdown",
   "id": "4d2bebb5",
   "metadata": {},
   "source": [
    "# Gradient Boosting"
   ]
  },
  {
   "cell_type": "code",
   "execution_count": 231,
   "id": "b75bf8ec",
   "metadata": {},
   "outputs": [],
   "source": [
    "# to shrinks the contribution of each tree by learning_rate\n",
    "learning_rates = [1, 0.5, 0.25, 0.1, 0.05, 0.01]\n",
    "\n",
    "# Number of trees\n",
    "n_estimators = [100,150,200]\n",
    "\n",
    "# Maximum depth of trees\n",
    "max_depth = [10,20,30]\n",
    "\n",
    "# Minimum number of samples required to split a node\n",
    "min_samples_split = [100,150,200]\n",
    "\n",
    "# Minimum number of samples required at each leaf node\n",
    "min_samples_leaf = [40,50]\n",
    "\n",
    "# Hyperparameter Grid\n",
    "param_dict = {'learning_rate': learning_rates,\n",
    "              'n_estimators' : n_estimators,\n",
    "              'max_depth' : max_depth,\n",
    "              'min_samples_split' : min_samples_split,\n",
    "              'min_samples_leaf' : min_samples_leaf}"
   ]
  },
  {
   "cell_type": "code",
   "execution_count": 232,
   "id": "ec171adb",
   "metadata": {},
   "outputs": [
    {
     "name": "stdout",
     "output_type": "stream",
     "text": [
      "Fitting 2 folds for each of 10 candidates, totalling 20 fits\n",
      "[CV] END learning_rate=1, max_depth=20, min_samples_leaf=40, min_samples_split=100, n_estimators=200; total time=   0.0s\n"
     ]
    },
    {
     "name": "stderr",
     "output_type": "stream",
     "text": [
      "C:\\Users\\user\\anaconda3\\lib\\site-packages\\sklearn\\utils\\validation.py:63: DataConversionWarning: A column-vector y was passed when a 1d array was expected. Please change the shape of y to (n_samples, ), for example using ravel().\n",
      "  return f(*args, **kwargs)\n",
      "C:\\Users\\user\\anaconda3\\lib\\site-packages\\sklearn\\utils\\validation.py:63: DataConversionWarning: A column-vector y was passed when a 1d array was expected. Please change the shape of y to (n_samples, ), for example using ravel().\n",
      "  return f(*args, **kwargs)\n"
     ]
    },
    {
     "name": "stdout",
     "output_type": "stream",
     "text": [
      "[CV] END learning_rate=1, max_depth=20, min_samples_leaf=40, min_samples_split=100, n_estimators=200; total time=   0.0s\n",
      "[CV] END learning_rate=0.1, max_depth=10, min_samples_leaf=40, min_samples_split=150, n_estimators=100; total time=   0.0s\n",
      "[CV] END learning_rate=0.1, max_depth=10, min_samples_leaf=40, min_samples_split=150, n_estimators=100; total time=   0.0s\n"
     ]
    },
    {
     "name": "stderr",
     "output_type": "stream",
     "text": [
      "C:\\Users\\user\\anaconda3\\lib\\site-packages\\sklearn\\utils\\validation.py:63: DataConversionWarning: A column-vector y was passed when a 1d array was expected. Please change the shape of y to (n_samples, ), for example using ravel().\n",
      "  return f(*args, **kwargs)\n",
      "C:\\Users\\user\\anaconda3\\lib\\site-packages\\sklearn\\utils\\validation.py:63: DataConversionWarning: A column-vector y was passed when a 1d array was expected. Please change the shape of y to (n_samples, ), for example using ravel().\n",
      "  return f(*args, **kwargs)\n",
      "C:\\Users\\user\\anaconda3\\lib\\site-packages\\sklearn\\utils\\validation.py:63: DataConversionWarning: A column-vector y was passed when a 1d array was expected. Please change the shape of y to (n_samples, ), for example using ravel().\n",
      "  return f(*args, **kwargs)\n"
     ]
    },
    {
     "name": "stdout",
     "output_type": "stream",
     "text": [
      "[CV] END learning_rate=1, max_depth=20, min_samples_leaf=50, min_samples_split=150, n_estimators=200; total time=   0.0s\n",
      "[CV] END learning_rate=1, max_depth=20, min_samples_leaf=50, min_samples_split=150, n_estimators=200; total time=   0.0s\n"
     ]
    },
    {
     "name": "stderr",
     "output_type": "stream",
     "text": [
      "C:\\Users\\user\\anaconda3\\lib\\site-packages\\sklearn\\utils\\validation.py:63: DataConversionWarning: A column-vector y was passed when a 1d array was expected. Please change the shape of y to (n_samples, ), for example using ravel().\n",
      "  return f(*args, **kwargs)\n",
      "C:\\Users\\user\\anaconda3\\lib\\site-packages\\sklearn\\utils\\validation.py:63: DataConversionWarning: A column-vector y was passed when a 1d array was expected. Please change the shape of y to (n_samples, ), for example using ravel().\n",
      "  return f(*args, **kwargs)\n"
     ]
    },
    {
     "name": "stdout",
     "output_type": "stream",
     "text": [
      "[CV] END learning_rate=0.25, max_depth=10, min_samples_leaf=50, min_samples_split=100, n_estimators=200; total time=   0.0s\n",
      "[CV] END learning_rate=0.25, max_depth=10, min_samples_leaf=50, min_samples_split=100, n_estimators=200; total time=   0.0s\n",
      "[CV] END learning_rate=1, max_depth=30, min_samples_leaf=50, min_samples_split=200, n_estimators=150; total time=   0.0s\n"
     ]
    },
    {
     "name": "stderr",
     "output_type": "stream",
     "text": [
      "C:\\Users\\user\\anaconda3\\lib\\site-packages\\sklearn\\utils\\validation.py:63: DataConversionWarning: A column-vector y was passed when a 1d array was expected. Please change the shape of y to (n_samples, ), for example using ravel().\n",
      "  return f(*args, **kwargs)\n",
      "C:\\Users\\user\\anaconda3\\lib\\site-packages\\sklearn\\utils\\validation.py:63: DataConversionWarning: A column-vector y was passed when a 1d array was expected. Please change the shape of y to (n_samples, ), for example using ravel().\n",
      "  return f(*args, **kwargs)\n",
      "C:\\Users\\user\\anaconda3\\lib\\site-packages\\sklearn\\utils\\validation.py:63: DataConversionWarning: A column-vector y was passed when a 1d array was expected. Please change the shape of y to (n_samples, ), for example using ravel().\n",
      "  return f(*args, **kwargs)\n"
     ]
    },
    {
     "name": "stdout",
     "output_type": "stream",
     "text": [
      "[CV] END learning_rate=1, max_depth=30, min_samples_leaf=50, min_samples_split=200, n_estimators=150; total time=   0.0s\n",
      "[CV] END learning_rate=0.5, max_depth=20, min_samples_leaf=50, min_samples_split=100, n_estimators=200; total time=   0.0s\n"
     ]
    },
    {
     "name": "stderr",
     "output_type": "stream",
     "text": [
      "C:\\Users\\user\\anaconda3\\lib\\site-packages\\sklearn\\utils\\validation.py:63: DataConversionWarning: A column-vector y was passed when a 1d array was expected. Please change the shape of y to (n_samples, ), for example using ravel().\n",
      "  return f(*args, **kwargs)\n",
      "C:\\Users\\user\\anaconda3\\lib\\site-packages\\sklearn\\utils\\validation.py:63: DataConversionWarning: A column-vector y was passed when a 1d array was expected. Please change the shape of y to (n_samples, ), for example using ravel().\n",
      "  return f(*args, **kwargs)\n"
     ]
    },
    {
     "name": "stdout",
     "output_type": "stream",
     "text": [
      "[CV] END learning_rate=0.5, max_depth=20, min_samples_leaf=50, min_samples_split=100, n_estimators=200; total time=   0.0s\n",
      "[CV] END learning_rate=0.01, max_depth=10, min_samples_leaf=50, min_samples_split=100, n_estimators=100; total time=   0.0s\n",
      "[CV] END learning_rate=0.01, max_depth=10, min_samples_leaf=50, min_samples_split=100, n_estimators=100; total time=   0.0s\n",
      "[CV] END learning_rate=0.01, max_depth=10, min_samples_leaf=40, min_samples_split=150, n_estimators=100; total time=   0.0s\n"
     ]
    },
    {
     "name": "stderr",
     "output_type": "stream",
     "text": [
      "C:\\Users\\user\\anaconda3\\lib\\site-packages\\sklearn\\utils\\validation.py:63: DataConversionWarning: A column-vector y was passed when a 1d array was expected. Please change the shape of y to (n_samples, ), for example using ravel().\n",
      "  return f(*args, **kwargs)\n",
      "C:\\Users\\user\\anaconda3\\lib\\site-packages\\sklearn\\utils\\validation.py:63: DataConversionWarning: A column-vector y was passed when a 1d array was expected. Please change the shape of y to (n_samples, ), for example using ravel().\n",
      "  return f(*args, **kwargs)\n",
      "C:\\Users\\user\\anaconda3\\lib\\site-packages\\sklearn\\utils\\validation.py:63: DataConversionWarning: A column-vector y was passed when a 1d array was expected. Please change the shape of y to (n_samples, ), for example using ravel().\n",
      "  return f(*args, **kwargs)\n",
      "C:\\Users\\user\\anaconda3\\lib\\site-packages\\sklearn\\utils\\validation.py:63: DataConversionWarning: A column-vector y was passed when a 1d array was expected. Please change the shape of y to (n_samples, ), for example using ravel().\n",
      "  return f(*args, **kwargs)\n"
     ]
    },
    {
     "name": "stdout",
     "output_type": "stream",
     "text": [
      "[CV] END learning_rate=0.01, max_depth=10, min_samples_leaf=40, min_samples_split=150, n_estimators=100; total time=   0.0s\n",
      "[CV] END learning_rate=0.1, max_depth=30, min_samples_leaf=40, min_samples_split=200, n_estimators=100; total time=   0.0s\n",
      "[CV] END learning_rate=0.1, max_depth=30, min_samples_leaf=40, min_samples_split=200, n_estimators=100; total time=   0.0s\n",
      "[CV] END learning_rate=0.1, max_depth=30, min_samples_leaf=40, min_samples_split=150, n_estimators=100; total time=   0.0s\n"
     ]
    },
    {
     "name": "stderr",
     "output_type": "stream",
     "text": [
      "C:\\Users\\user\\anaconda3\\lib\\site-packages\\sklearn\\utils\\validation.py:63: DataConversionWarning: A column-vector y was passed when a 1d array was expected. Please change the shape of y to (n_samples, ), for example using ravel().\n",
      "  return f(*args, **kwargs)\n",
      "C:\\Users\\user\\anaconda3\\lib\\site-packages\\sklearn\\utils\\validation.py:63: DataConversionWarning: A column-vector y was passed when a 1d array was expected. Please change the shape of y to (n_samples, ), for example using ravel().\n",
      "  return f(*args, **kwargs)\n",
      "C:\\Users\\user\\anaconda3\\lib\\site-packages\\sklearn\\utils\\validation.py:63: DataConversionWarning: A column-vector y was passed when a 1d array was expected. Please change the shape of y to (n_samples, ), for example using ravel().\n",
      "  return f(*args, **kwargs)\n",
      "C:\\Users\\user\\anaconda3\\lib\\site-packages\\sklearn\\utils\\validation.py:63: DataConversionWarning: A column-vector y was passed when a 1d array was expected. Please change the shape of y to (n_samples, ), for example using ravel().\n",
      "  return f(*args, **kwargs)\n"
     ]
    },
    {
     "name": "stdout",
     "output_type": "stream",
     "text": [
      "[CV] END learning_rate=0.1, max_depth=30, min_samples_leaf=40, min_samples_split=150, n_estimators=100; total time=   0.0s\n"
     ]
    },
    {
     "name": "stderr",
     "output_type": "stream",
     "text": [
      "C:\\Users\\user\\anaconda3\\lib\\site-packages\\sklearn\\utils\\validation.py:63: DataConversionWarning: A column-vector y was passed when a 1d array was expected. Please change the shape of y to (n_samples, ), for example using ravel().\n",
      "  return f(*args, **kwargs)\n"
     ]
    },
    {
     "data": {
      "text/plain": [
       "RandomizedSearchCV(cv=2, estimator=GradientBoostingClassifier(random_state=42),\n",
       "                   param_distributions={'learning_rate': [1, 0.5, 0.25, 0.1,\n",
       "                                                          0.05, 0.01],\n",
       "                                        'max_depth': [10, 20, 30],\n",
       "                                        'min_samples_leaf': [40, 50],\n",
       "                                        'min_samples_split': [100, 150, 200],\n",
       "                                        'n_estimators': [100, 150, 200]},\n",
       "                   scoring='roc_auc', verbose=2)"
      ]
     },
     "execution_count": 232,
     "metadata": {},
     "output_type": "execute_result"
    }
   ],
   "source": [
    "# Create an instance of the RandomForestClassifier\n",
    "gbc = GradientBoostingClassifier(random_state=42)\n",
    "\n",
    "# Grid search\n",
    "gbc_grid = RandomizedSearchCV(estimator=gbc,\n",
    "                       param_distributions = param_dict,\n",
    "                       cv = 2, verbose=2, scoring='roc_auc')\n",
    "# fitting model\n",
    "gbc_grid.fit(X_train,y_train)"
   ]
  },
  {
   "cell_type": "code",
   "execution_count": 233,
   "id": "67b9c2fe",
   "metadata": {},
   "outputs": [
    {
     "data": {
      "text/plain": [
       "GradientBoostingClassifier(max_depth=10, min_samples_leaf=40,\n",
       "                           min_samples_split=150, random_state=42)"
      ]
     },
     "execution_count": 233,
     "metadata": {},
     "output_type": "execute_result"
    }
   ],
   "source": [
    "gbc_grid.best_estimator_"
   ]
  },
  {
   "cell_type": "code",
   "execution_count": 234,
   "id": "00ef3dbc",
   "metadata": {},
   "outputs": [
    {
     "data": {
      "text/plain": [
       "{'n_estimators': 100,\n",
       " 'min_samples_split': 150,\n",
       " 'min_samples_leaf': 40,\n",
       " 'max_depth': 10,\n",
       " 'learning_rate': 0.1}"
      ]
     },
     "execution_count": 234,
     "metadata": {},
     "output_type": "execute_result"
    }
   ],
   "source": [
    "gbc_grid.best_params_"
   ]
  },
  {
   "cell_type": "code",
   "execution_count": 235,
   "id": "e8502486",
   "metadata": {},
   "outputs": [],
   "source": [
    "gbc_optimal_model = gbc_grid.best_estimator_"
   ]
  },
  {
   "cell_type": "code",
   "execution_count": 236,
   "id": "ec0874af",
   "metadata": {},
   "outputs": [],
   "source": [
    "#class prediction of y on train and test\n",
    "y_pred_gbc_grid=gbc_optimal_model.predict(X_test)\n",
    "y_train_pred_gbc_grid=gbc_optimal_model.predict(X_train)\n",
    "\n",
    "# Get the probabilities on train and test\n",
    "y_pred_prob_gbc_grid = gbc_optimal_model.predict_proba(X_train)[:,1]\n",
    "y_train_pred_prob_gbc_grid = gbc_optimal_model.predict_proba(X_test)[:,1]"
   ]
  },
  {
   "cell_type": "code",
   "execution_count": 237,
   "id": "38d5d00c",
   "metadata": {},
   "outputs": [
    {
     "name": "stdout",
     "output_type": "stream",
     "text": [
      "The accuracy on train data is  0.944\n",
      "The accuracy on test data is  0.864\n",
      "The precision on test data is  0.876\n",
      "The recall on test data is  0.885\n",
      "The f1 on test data is  0.88\n",
      "The auc on test data is  0.861\n"
     ]
    }
   ],
   "source": [
    "#getting all scores for Gradient Boosting after CV and Hyperparameter Tunning\n",
    "train_accuracy_gbc_grid = round(accuracy_score(y_train_pred_gbc_grid,y_train), 3)\n",
    "accuracy_gbc_grid = round(accuracy_score(y_pred_gbc_grid,y_test), 3)\n",
    "precision_score_gbc_grid = round(precision_score(y_pred_gbc_grid,y_test), 3)\n",
    "recall_score_gbc_grid = round(recall_score(y_pred_gbc_grid,y_test), 3)\n",
    "f1_score_gbc_grid = round(f1_score(y_pred_gbc_grid,y_test), 3)\n",
    "auc_gbc_grid = round(roc_auc_score(y_pred_gbc_grid,y_test), 3)\n",
    "\n",
    "print(\"The accuracy on train data is \", train_accuracy_gbc_grid)\n",
    "print(\"The accuracy on test data is \", accuracy_gbc_grid)\n",
    "print(\"The precision on test data is \", precision_score_gbc_grid)\n",
    "print(\"The recall on test data is \", recall_score_gbc_grid)\n",
    "print(\"The f1 on test data is \", f1_score_gbc_grid)\n",
    "print(\"The auc on test data is \", auc_gbc_grid)"
   ]
  },
  {
   "cell_type": "code",
   "execution_count": 238,
   "id": "167e6f45",
   "metadata": {},
   "outputs": [],
   "source": [
    "# Get the confusion matrices for train and test\n",
    "train_cm_gbc_grid = confusion_matrix(y_train,y_train_pred_gbc_grid)\n",
    "test_cm_gbc_grid = confusion_matrix(y_test,y_pred_gbc_grid )"
   ]
  },
  {
   "cell_type": "code",
   "execution_count": 239,
   "id": "7f1099ae",
   "metadata": {},
   "outputs": [
    {
     "data": {
      "text/plain": [
       "array([[302,  29],\n",
       "       [ 12, 391]], dtype=int64)"
      ]
     },
     "execution_count": 239,
     "metadata": {},
     "output_type": "execute_result"
    }
   ],
   "source": [
    "train_cm_gbc_grid"
   ]
  },
  {
   "cell_type": "code",
   "execution_count": 240,
   "id": "2659da06",
   "metadata": {},
   "outputs": [
    {
     "data": {
      "text/plain": [
       "array([[67, 12],\n",
       "       [13, 92]], dtype=int64)"
      ]
     },
     "execution_count": 240,
     "metadata": {},
     "output_type": "execute_result"
    }
   ],
   "source": [
    "test_cm_gbc_grid"
   ]
  },
  {
   "cell_type": "markdown",
   "id": "4fc68763",
   "metadata": {},
   "source": [
    "# Conclusion:"
   ]
  },
  {
   "cell_type": "markdown",
   "id": "708c643f",
   "metadata": {},
   "source": [
    "I have applied seven different types of classification algorithm on my given dataset to know which algorithm good fit for our dataset & gives us the best accuracy. Before applying Cross validation and hyperparameter tuning Gradient Boosting shows highest test accuracy score of 0.870, F1 score is 0.887 and Accuracy is 0.868, but after applying Cross validation and hyperparameter tuning on the Gradient Boosting algorithm it gives test accuracy score of 0.864, F1 score is 0.88 and Accuracy is  0.861 which is almost same than before. As we know that Cross validation and hyperparameter tuning certainly reduces chances of overfitting and also increases performance of model. So we can conclude that before tunning our model worked well so here no needed to apply tuning as such."
   ]
  },
  {
   "cell_type": "code",
   "execution_count": null,
   "id": "45a4e074",
   "metadata": {},
   "outputs": [],
   "source": []
  }
 ],
 "metadata": {
  "kernelspec": {
   "display_name": "Python 3 (ipykernel)",
   "language": "python",
   "name": "python3"
  },
  "language_info": {
   "codemirror_mode": {
    "name": "ipython",
    "version": 3
   },
   "file_extension": ".py",
   "mimetype": "text/x-python",
   "name": "python",
   "nbconvert_exporter": "python",
   "pygments_lexer": "ipython3",
   "version": "3.9.7"
  }
 },
 "nbformat": 4,
 "nbformat_minor": 5
}
